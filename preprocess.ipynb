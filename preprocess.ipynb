{
 "cells": [
  {
   "cell_type": "code",
   "execution_count": 2,
   "id": "d7e648c1-784b-48be-ae24-18ea01cb1036",
   "metadata": {},
   "outputs": [],
   "source": [
    "import os\n",
    "os.chdir('/home/re6125015/DeepL/images')\n",
    "import numpy as np\n",
    "# from numpy import linalg as LA\n",
    "import cv2\n",
    "# from sklearn.neighbors import KNeighborsClassifier\n",
    "# from sklearn.svm import SVC\n",
    "# from sklearn.ensemble import RandomForestClassifier\n",
    "# from sklearn.metrics import accuracy_score, f1_score\n",
    "# from skimage.feature import hog\n",
    "# from sklearn.decomposition import PCA\n",
    "# from sklearn.model_selection import GridSearchCV\n",
    "# from sklearn.cluster import KMeans\n",
    "# from skimage import exposure\n",
    "# from natsort import natsorted\n",
    "# import warnings\n",
    "\n",
    "def load_img(f):\n",
    "    f = open(f)\n",
    "    lines = f.readlines()\n",
    "    imgs, lab = [], []\n",
    "\n",
    "    for i in range(len(lines)):\n",
    "        fn, label = lines[i].split(' ')\n",
    "\n",
    "        im1 = cv2.imread(fn)\n",
    "        # print(im1.shape)\n",
    "        # if im1 is None:\n",
    "        #     print(f\"Error: Could not read the image from {im1}\")\n",
    "        im1 = cv2.resize(im1, (224, 224))\n",
    "\n",
    "        # '''===============================\n",
    "        # 影像處理的技巧可以放這邊，來增強影像的品質\n",
    "        # ==============================='''\n",
    "        # if processing_choice == 0:\n",
    "\n",
    "\n",
    "        # elif processing_choice == 2:\n",
    "        #     # Apply color histogram feature extraction\n",
    "        #     im1 = color_histogram_extraction(im1)\n",
    "\n",
    "        # vec = np.reshape(im1, [-1])\n",
    "        imgs.append(im1)\n",
    "        lab.append(int(label))\n",
    "\n",
    "    imgs = np.asarray(imgs, np.float32)\n",
    "    lab = np.asarray(lab, np.int32)\n",
    "    return imgs, lab\n",
    "\n",
    "X_train, y_train = load_img('train.txt')\n",
    "X_val, y_val = load_img('val.txt')\n",
    "X_test, y_test = load_img('test.txt')\n",
    "\n",
    "# Save the 4D arrays to a .npz file\n",
    "np.savez('train.npz', array1=X_train, array2=y_train)\n",
    "np.savez('val.npz', array1=X_val, array2=y_val)\n",
    "np.savez('test.npz', array1=X_test, array2=y_test)\n"
   ]
  },
  {
   "cell_type": "code",
   "execution_count": null,
   "id": "145b4dc9-a701-4c8f-8d19-3c015d31e9b5",
   "metadata": {},
   "outputs": [],
   "source": []
  },
  {
   "cell_type": "code",
   "execution_count": null,
   "id": "267db5af-7195-408e-81bc-fffdaa1eef6a",
   "metadata": {},
   "outputs": [],
   "source": []
  }
 ],
 "metadata": {
  "kernelspec": {
   "display_name": "Python 3 (ipykernel)",
   "language": "python",
   "name": "python3"
  },
  "language_info": {
   "codemirror_mode": {
    "name": "ipython",
    "version": 3
   },
   "file_extension": ".py",
   "mimetype": "text/x-python",
   "name": "python",
   "nbconvert_exporter": "python",
   "pygments_lexer": "ipython3",
   "version": "3.11.5"
  }
 },
 "nbformat": 4,
 "nbformat_minor": 5
}
