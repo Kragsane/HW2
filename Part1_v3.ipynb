{
 "cells": [
  {
   "cell_type": "code",
   "execution_count": 1,
   "metadata": {
    "id": "0SD5u8Da3yGT"
   },
   "outputs": [
    {
     "name": "stderr",
     "output_type": "stream",
     "text": [
      "/opt/miniconda3/lib/python3.11/site-packages/tqdm/auto.py:21: TqdmWarning: IProgress not found. Please update jupyter and ipywidgets. See https://ipywidgets.readthedocs.io/en/stable/user_install.html\n",
      "  from .autonotebook import tqdm as notebook_tqdm\n"
     ]
    },
    {
     "data": {
      "text/plain": [
       "244286"
      ]
     },
     "execution_count": 1,
     "metadata": {},
     "output_type": "execute_result"
    }
   ],
   "source": [
    "import os\n",
    "import numpy as np\n",
    "import pandas as pd\n",
    "import matplotlib.pyplot as plt\n",
    "import seaborn as sns\n",
    "import torch\n",
    "import torch.nn as nn\n",
    "import torch.nn.functional as F\n",
    "from torch.utils.data import Dataset, DataLoader\n",
    "from torchvision import transforms\n",
    "import torch.optim as optim\n",
    "from sklearn.metrics import classification_report, confusion_matrix, accuracy_score\n",
    "from calflops import calculate_flops\n",
    "from torchsummary import summary\n",
    "import flopth\n",
    "work_path = \"/home/re6125015/DeepL/images\"\n",
    "os.chdir(work_path)\n",
    "os.getpid()"
   ]
  },
  {
   "cell_type": "code",
   "execution_count": 2,
   "metadata": {
    "id": "XswaMtK_w5Xx"
   },
   "outputs": [],
   "source": [
    "def load_npz_data(file_path):\n",
    "    loaded = np.load(file_path)\n",
    "    X = loaded['array1']  # Adjust 'array1' if your image data key is different\n",
    "    y = loaded['array2']  # Adjust 'array2' if your label data key is different\n",
    "    return X, y\n",
    "\n",
    "X_train, y_train = load_npz_data('train.npz')\n",
    "X_val, y_val = load_npz_data('val.npz')\n",
    "X_test, y_test = load_npz_data('test.npz')"
   ]
  },
  {
   "cell_type": "code",
   "execution_count": 3,
   "metadata": {
    "id": "SIzk7-G06OK1"
   },
   "outputs": [],
   "source": [
    "class NPZDataset(Dataset):\n",
    "    def __init__(self, images, labels, transform=None):\n",
    "        self.images = images\n",
    "        self.labels = labels\n",
    "        self.transform = transform\n",
    "\n",
    "    def __len__(self):\n",
    "        return len(self.labels)\n",
    "\n",
    "    def __getitem__(self, idx):\n",
    "        image = self.images[idx]\n",
    "        label = self.labels[idx]\n",
    "        if self.transform:\n",
    "            image = self.transform(image)\n",
    "        return image, torch.tensor(label, dtype=torch.long)  # Ensure label is torch.long"
   ]
  },
  {
   "cell_type": "code",
   "execution_count": 4,
   "metadata": {
    "id": "8qwDIfIkxIQA"
   },
   "outputs": [],
   "source": [
    "res = 84\n",
    "transform = transforms.Compose([\n",
    "    transforms.ToPILImage(),\n",
    "    transforms.Resize((res, res)),  # ResNet typically uses 224x224 input images\n",
    "    transforms.ToTensor(),\n",
    "    transforms.Normalize(mean=[0.485, 0.456, 0.406], std=[0.229, 0.224, 0.225])\n",
    "])\n",
    "\n",
    "# Create datasets\n",
    "train_dataset = NPZDataset(X_train, y_train, transform=transform)\n",
    "val_dataset = NPZDataset(X_val, y_val, transform=transform)\n",
    "test_dataset = NPZDataset(X_test, y_test, transform=transform)\n",
    "\n",
    "# Data loaders\n",
    "train_loader = DataLoader(train_dataset, batch_size=64, shuffle=True, num_workers=4)\n",
    "val_loader = DataLoader(val_dataset, batch_size=64, shuffle=False, num_workers=4)\n",
    "test_loader = DataLoader(test_dataset, batch_size=64, shuffle=False, num_workers=4)"
   ]
  },
  {
   "cell_type": "code",
   "execution_count": 5,
   "metadata": {
    "id": "17Pw46eH86A-"
   },
   "outputs": [],
   "source": [
    "class Attention2D(nn.Module):\n",
    "    def __init__(self, max_channels, ratios, K, temperature, init_weight=True):\n",
    "        super(Attention2D, self).__init__()\n",
    "        assert temperature % 3 == 1\n",
    "        self.avgpool = nn.AdaptiveAvgPool2d(1)\n",
    "        self.hidden_planes = int(max_channels * ratios) + 1\n",
    "        self.fc1 = nn.Conv2d(max_channels, self.hidden_planes, 1, bias=False)\n",
    "        self.fc2 = nn.Conv2d(self.hidden_planes, K, 1, bias=True)\n",
    "        self.temperature = temperature\n",
    "        if init_weight:\n",
    "            self._initialize_weights()\n",
    "\n",
    "    def _initialize_weights(self):\n",
    "        for m in self.modules():\n",
    "            if isinstance(m, nn.Conv2d):\n",
    "                nn.init.kaiming_normal_(m.weight, mode='fan_out', nonlinearity='relu')\n",
    "                if m.bias is not None:\n",
    "                    nn.init.constant_(m.bias, 0)\n",
    "\n",
    "    def update_temperature(self):\n",
    "        if self.temperature != 1:\n",
    "            self.temperature -= 3\n",
    "            print('Change temperature to:', str(self.temperature))\n",
    "\n",
    "    def forward(self, x):\n",
    "        x = self.avgpool(x)\n",
    "        x = self.fc1(x)\n",
    "        x = F.relu(x)\n",
    "        x = self.fc2(x).reshape(x.size(0), -1)\n",
    "        return F.softmax(x / self.temperature, dim=1)\n",
    "\n",
    "class DynamicSelectiveConvLayer(nn.Module):\n",
    "    def __init__(self, max_channels, out_channels, kernel_size, stride=1, padding=1, bias=False, ratio=0.25, K=4, temperature=34, init_weight=True):\n",
    "        super(DynamicSelectiveConvLayer, self).__init__()\n",
    "        self.max_channels = max_channels\n",
    "        self.out_channels = out_channels\n",
    "        self.kernel_size = kernel_size\n",
    "        self.stride = stride\n",
    "        self.padding = padding\n",
    "        self.bias_param = bias\n",
    "        self.K = K\n",
    "        self.attention = Attention2D(max_channels, ratio, K, temperature)\n",
    "\n",
    "        self.weights = nn.Parameter(torch.randn(K, out_channels, max_channels, kernel_size, kernel_size), requires_grad=True)\n",
    "        if bias:\n",
    "            self.bias = nn.Parameter(torch.zeros(K, out_channels))\n",
    "        else:\n",
    "            self.register_parameter('bias', None)\n",
    "        \n",
    "        if init_weight:\n",
    "            self._initialize_weights()\n",
    "\n",
    "    def _initialize_weights(self):\n",
    "        for i in range(self.K):\n",
    "            nn.init.kaiming_uniform_(self.weights[i])\n",
    "\n",
    "    def update_temperature(self):\n",
    "        self.attention.update_temperature()\n",
    "\n",
    "    def forward(self, x, selected_channels):\n",
    "        batch_size, _, height, width = x.size()\n",
    "        \n",
    "        # Create a mask to select specific channels\n",
    "        channel_mask = torch.zeros(self.max_channels, dtype=torch.bool, device=x.device)\n",
    "        channel_indices = torch.tensor(selected_channels, dtype=torch.long, device=x.device)\n",
    "        channel_mask[channel_indices] = True\n",
    "\n",
    "        # Apply mask to input to select only the required channels\n",
    "        x_selected = x[:, channel_mask, :, :]\n",
    "\n",
    "        # Adjust the attention mechanism to match the number of selected channels\n",
    "        self.attention.fc1 = nn.Conv2d(len(selected_channels), self.attention.hidden_planes, 1, bias=False).to(x.device)\n",
    "        self.attention.fc2 = nn.Conv2d(self.attention.hidden_planes, self.K, 1, bias=True).to(x.device)\n",
    "\n",
    "        # Generate dynamic weights based on attention scores\n",
    "        softmax_attention = self.attention(x_selected)\n",
    "        selected_in_channels = len(selected_channels)\n",
    "        weight = self.weights[:, :, :selected_in_channels, :, :].reshape(self.K, -1)\n",
    "\n",
    "        aggregate_weight = torch.mm(softmax_attention, weight).reshape(batch_size * self.out_channels, selected_in_channels, self.kernel_size, self.kernel_size)\n",
    "        \n",
    "        if self.bias is not None:\n",
    "            aggregate_bias = torch.mm(softmax_attention, self.bias).reshape(-1)\n",
    "            output = F.conv2d(x_selected.reshape(1, -1, height, width), weight=aggregate_weight, bias=aggregate_bias, stride=self.stride, padding=self.padding, groups=batch_size)\n",
    "        else:\n",
    "            output = F.conv2d(x_selected.reshape(1, -1, height, width), weight=aggregate_weight, bias=None, stride=self.stride, padding=self.padding, groups=batch_size)\n",
    "\n",
    "        output = output.reshape(batch_size, self.out_channels, output.size(-2), output.size(-1))\n",
    "        return output"
   ]
  },
  {
   "cell_type": "code",
   "execution_count": 6,
   "metadata": {
    "id": "Qmv7cFCKFlog"
   },
   "outputs": [],
   "source": [
    "class BasicBlock(nn.Module):\n",
    "    expansion = 1\n",
    "\n",
    "    def __init__(self, in_channels, out_channels, stride=1, downsample=None):\n",
    "        super(BasicBlock, self).__init__()\n",
    "        self.conv1 = nn.Conv2d(in_channels, out_channels, kernel_size=3, stride=stride, padding=1, bias=False)\n",
    "        self.bn1 = nn.BatchNorm2d(out_channels)\n",
    "        self.relu = nn.ReLU(inplace=True)\n",
    "        self.conv2 = nn.Conv2d(out_channels, out_channels, kernel_size=3, stride=1, padding=1, bias=False)\n",
    "        self.bn2 = nn.BatchNorm2d(out_channels)\n",
    "        self.downsample = downsample\n",
    "        self.stride = stride\n",
    "\n",
    "    def forward(self, x):\n",
    "        residual = x\n",
    "\n",
    "        out = self.conv1(x)\n",
    "        out = self.bn1(out)\n",
    "        out = self.relu(out)\n",
    "\n",
    "        out = self.conv2(out)\n",
    "        out = self.bn2(out)\n",
    "\n",
    "        if self.downsample is not None:\n",
    "            residual = self.downsample(x)\n",
    "\n",
    "        out += residual\n",
    "        out = self.relu(out)\n",
    "\n",
    "        return out"
   ]
  },
  {
   "cell_type": "code",
   "execution_count": 7,
   "metadata": {
    "id": "XUbzkGKfxLhF"
   },
   "outputs": [],
   "source": [
    "class ResNet(nn.Module):\n",
    "    def __init__(self, block, layers, num_classes=1000):\n",
    "        super(ResNet, self).__init__()\n",
    "        self.in_channels = 64\n",
    "        self.conv1 = DynamicSelectiveConvLayer(3, 64, kernel_size=3, stride=1, padding=1, bias=False)\n",
    "        self.bn1 = nn.BatchNorm2d(64)\n",
    "        self.relu = nn.ReLU(inplace=True)\n",
    "        self.maxpool = nn.MaxPool2d(kernel_size=3, stride=2, padding=1)\n",
    "        self.layer1 = self._make_layer(block, 64, layers[0])\n",
    "        self.layer2 = self._make_layer(block, 128, layers[1], stride=2)\n",
    "        self.layer3 = self._make_layer(block, 256, layers[2], stride=2)\n",
    "        self.layer4 = self._make_layer(block, 512, layers[3], stride=2)\n",
    "        self.avgpool = nn.AdaptiveAvgPool2d((1, 1))\n",
    "        self.fc = nn.Linear(512 * block.expansion, num_classes)\n",
    "\n",
    "    def _make_layer(self, block, out_channels, blocks, stride=1):\n",
    "        downsample = None\n",
    "        if stride != 1 or self.in_channels != out_channels * block.expansion:\n",
    "            downsample = nn.Sequential(\n",
    "                nn.Conv2d(self.in_channels, out_channels * block.expansion, kernel_size=1, stride=stride, bias=False),\n",
    "                nn.BatchNorm2d(out_channels * block.expansion),\n",
    "            )\n",
    "        layers = []\n",
    "        layers.append(block(self.in_channels, out_channels, stride, downsample))\n",
    "        self.in_channels = out_channels * block.expansion\n",
    "        for _ in range(1, blocks):\n",
    "            layers.append(block(self.in_channels, out_channels))\n",
    "        return nn.Sequential(*layers)\n",
    "\n",
    "    def forward(self, x, selected_channels = [0, 1, 2]):\n",
    "        x = self.conv1(x, selected_channels)\n",
    "        x = self.bn1(x)\n",
    "        x = self.relu(x)\n",
    "        x = self.maxpool(x)\n",
    "        x = self.layer1(x)\n",
    "        x = self.layer2(x)\n",
    "        x = self.layer3(x)\n",
    "        x = self.layer4(x)\n",
    "        x = self.avgpool(x)\n",
    "        x = torch.flatten(x, 1)\n",
    "        x = self.fc(x)\n",
    "        return x"
   ]
  },
  {
   "cell_type": "code",
   "execution_count": 8,
   "metadata": {
    "id": "SvJUAptHFvNz"
   },
   "outputs": [],
   "source": [
    "device = torch.device(\"cuda\" if torch.cuda.is_available() else \"cpu\")\n",
    "\n",
    "model = ResNet(BasicBlock, [2, 2, 2, 2], num_classes=50).to(device)\n",
    "criterion = nn.CrossEntropyLoss()\n",
    "optimizer = optim.Adam(model.parameters(), lr=0.001, weight_decay=1e-4)\n",
    "\n",
    "# # Define a StepLR scheduler\n",
    "# scheduler = torch.optim.lr_scheduler.ReduceLROnPlateau(optimizer, 'min')"
   ]
  },
  {
   "cell_type": "code",
   "execution_count": 9,
   "metadata": {},
   "outputs": [
    {
     "name": "stdout",
     "output_type": "stream",
     "text": [
      "----------------------------------------------------------------\n",
      "        Layer (type)               Output Shape         Param #\n",
      "================================================================\n",
      " AdaptiveAvgPool2d-1              [-1, 3, 1, 1]               0\n",
      "       Attention2D-2                    [-1, 4]               0\n",
      "DynamicSelectiveConvLayer-3           [-1, 64, 84, 84]               0\n",
      "       BatchNorm2d-4           [-1, 64, 84, 84]             128\n",
      "              ReLU-5           [-1, 64, 84, 84]               0\n",
      "         MaxPool2d-6           [-1, 64, 42, 42]               0\n",
      "            Conv2d-7           [-1, 64, 42, 42]          36,864\n",
      "       BatchNorm2d-8           [-1, 64, 42, 42]             128\n",
      "              ReLU-9           [-1, 64, 42, 42]               0\n",
      "           Conv2d-10           [-1, 64, 42, 42]          36,864\n",
      "      BatchNorm2d-11           [-1, 64, 42, 42]             128\n",
      "             ReLU-12           [-1, 64, 42, 42]               0\n",
      "       BasicBlock-13           [-1, 64, 42, 42]               0\n",
      "           Conv2d-14           [-1, 64, 42, 42]          36,864\n",
      "      BatchNorm2d-15           [-1, 64, 42, 42]             128\n",
      "             ReLU-16           [-1, 64, 42, 42]               0\n",
      "           Conv2d-17           [-1, 64, 42, 42]          36,864\n",
      "      BatchNorm2d-18           [-1, 64, 42, 42]             128\n",
      "             ReLU-19           [-1, 64, 42, 42]               0\n",
      "       BasicBlock-20           [-1, 64, 42, 42]               0\n",
      "           Conv2d-21          [-1, 128, 21, 21]          73,728\n",
      "      BatchNorm2d-22          [-1, 128, 21, 21]             256\n",
      "             ReLU-23          [-1, 128, 21, 21]               0\n",
      "           Conv2d-24          [-1, 128, 21, 21]         147,456\n",
      "      BatchNorm2d-25          [-1, 128, 21, 21]             256\n",
      "           Conv2d-26          [-1, 128, 21, 21]           8,192\n",
      "      BatchNorm2d-27          [-1, 128, 21, 21]             256\n",
      "             ReLU-28          [-1, 128, 21, 21]               0\n",
      "       BasicBlock-29          [-1, 128, 21, 21]               0\n",
      "           Conv2d-30          [-1, 128, 21, 21]         147,456\n",
      "      BatchNorm2d-31          [-1, 128, 21, 21]             256\n",
      "             ReLU-32          [-1, 128, 21, 21]               0\n",
      "           Conv2d-33          [-1, 128, 21, 21]         147,456\n",
      "      BatchNorm2d-34          [-1, 128, 21, 21]             256\n",
      "             ReLU-35          [-1, 128, 21, 21]               0\n",
      "       BasicBlock-36          [-1, 128, 21, 21]               0\n",
      "           Conv2d-37          [-1, 256, 11, 11]         294,912\n",
      "      BatchNorm2d-38          [-1, 256, 11, 11]             512\n",
      "             ReLU-39          [-1, 256, 11, 11]               0\n",
      "           Conv2d-40          [-1, 256, 11, 11]         589,824\n",
      "      BatchNorm2d-41          [-1, 256, 11, 11]             512\n",
      "           Conv2d-42          [-1, 256, 11, 11]          32,768\n",
      "      BatchNorm2d-43          [-1, 256, 11, 11]             512\n",
      "             ReLU-44          [-1, 256, 11, 11]               0\n",
      "       BasicBlock-45          [-1, 256, 11, 11]               0\n",
      "           Conv2d-46          [-1, 256, 11, 11]         589,824\n",
      "      BatchNorm2d-47          [-1, 256, 11, 11]             512\n",
      "             ReLU-48          [-1, 256, 11, 11]               0\n",
      "           Conv2d-49          [-1, 256, 11, 11]         589,824\n",
      "      BatchNorm2d-50          [-1, 256, 11, 11]             512\n",
      "             ReLU-51          [-1, 256, 11, 11]               0\n",
      "       BasicBlock-52          [-1, 256, 11, 11]               0\n",
      "           Conv2d-53            [-1, 512, 6, 6]       1,179,648\n",
      "      BatchNorm2d-54            [-1, 512, 6, 6]           1,024\n",
      "             ReLU-55            [-1, 512, 6, 6]               0\n",
      "           Conv2d-56            [-1, 512, 6, 6]       2,359,296\n",
      "      BatchNorm2d-57            [-1, 512, 6, 6]           1,024\n",
      "           Conv2d-58            [-1, 512, 6, 6]         131,072\n",
      "      BatchNorm2d-59            [-1, 512, 6, 6]           1,024\n",
      "             ReLU-60            [-1, 512, 6, 6]               0\n",
      "       BasicBlock-61            [-1, 512, 6, 6]               0\n",
      "           Conv2d-62            [-1, 512, 6, 6]       2,359,296\n",
      "      BatchNorm2d-63            [-1, 512, 6, 6]           1,024\n",
      "             ReLU-64            [-1, 512, 6, 6]               0\n",
      "           Conv2d-65            [-1, 512, 6, 6]       2,359,296\n",
      "      BatchNorm2d-66            [-1, 512, 6, 6]           1,024\n",
      "             ReLU-67            [-1, 512, 6, 6]               0\n",
      "       BasicBlock-68            [-1, 512, 6, 6]               0\n",
      "AdaptiveAvgPool2d-69            [-1, 512, 1, 1]               0\n",
      "           Linear-70                   [-1, 50]          25,650\n",
      "================================================================\n",
      "Total params: 11,192,754\n",
      "Trainable params: 11,192,754\n",
      "Non-trainable params: 0\n",
      "----------------------------------------------------------------\n",
      "Input size (MB): 0.08\n",
      "Forward/backward pass size (MB): 36.18\n",
      "Params size (MB): 42.70\n",
      "Estimated Total Size (MB): 78.96\n",
      "----------------------------------------------------------------\n"
     ]
    }
   ],
   "source": [
    "#calflops can't be used, so we can only count the #PARAMS\n",
    "summary(model, input_size=(3, 84, 84))"
   ]
  },
  {
   "cell_type": "code",
   "execution_count": 10,
   "metadata": {
    "id": "UejkdO5-Fv-S"
   },
   "outputs": [
    {
     "name": "stderr",
     "output_type": "stream",
     "text": [
      "/home/re6125015/.local/lib/python3.11/site-packages/torch/autograd/graph.py:744: UserWarning: Plan failed with a cudnnException: CUDNN_BACKEND_EXECUTION_PLAN_DESCRIPTOR: cudnnFinalize Descriptor Failed cudnn_status: CUDNN_STATUS_NOT_SUPPORTED (Triggered internally at ../aten/src/ATen/native/cudnn/Conv_v8.cpp:919.)\n",
      "  return Variable._execution_engine.run_backward(  # Calls into the C++ engine to run the backward pass\n"
     ]
    },
    {
     "name": "stdout",
     "output_type": "stream",
     "text": [
      "Epoch 1: Train Loss: 3.2772 Train Acc: 13.54% Val Loss: 3.0698 Val Acc: 18.22%\n",
      "Epoch 2: Train Loss: 2.7073 Train Acc: 24.51% Val Loss: 2.5917 Val Acc: 27.78%\n",
      "Epoch 3: Train Loss: 2.3612 Train Acc: 32.39% Val Loss: 2.8674 Val Acc: 25.11%\n",
      "Epoch 4: Train Loss: 2.0854 Train Acc: 38.81% Val Loss: 2.3619 Val Acc: 33.33%\n",
      "Epoch 5: Train Loss: 1.8556 Train Acc: 44.49% Val Loss: 2.2376 Val Acc: 36.00%\n",
      "Epoch 6: Train Loss: 1.6571 Train Acc: 49.94% Val Loss: 1.8082 Val Acc: 46.00%\n",
      "Epoch 7: Train Loss: 1.4836 Train Acc: 54.32% Val Loss: 1.8759 Val Acc: 44.67%\n",
      "Epoch 8: Train Loss: 1.3391 Train Acc: 58.39% Val Loss: 1.7071 Val Acc: 49.11%\n",
      "Epoch 9: Train Loss: 1.1963 Train Acc: 62.15% Val Loss: 1.7181 Val Acc: 51.33%\n",
      "Epoch 10: Train Loss: 1.0578 Train Acc: 65.85% Val Loss: 1.6708 Val Acc: 51.33%\n",
      "Epoch 11: Train Loss: 0.9288 Train Acc: 69.53% Val Loss: 1.8192 Val Acc: 50.67%\n",
      "Epoch 12: Train Loss: 0.8091 Train Acc: 73.19% Val Loss: 1.7469 Val Acc: 50.89%\n",
      "Epoch 13: Train Loss: 0.7103 Train Acc: 76.11% Val Loss: 1.9656 Val Acc: 52.22%\n",
      "Early stopping triggered.\n"
     ]
    }
   ],
   "source": [
    "num_epochs = 50\n",
    "early_stopping_counter = 0\n",
    "best_val_loss = float('inf')\n",
    "selected_channels = [0, 1, 2]  # RGB for training, can be changed as needed\n",
    "\n",
    "for epoch in range(num_epochs):\n",
    "    model.train()  # Set model to training mode\n",
    "    running_loss = 0.0\n",
    "    correct = 0\n",
    "    total = 0\n",
    "\n",
    "    for inputs, labels in train_loader:\n",
    "        inputs, labels = inputs.to(device), labels.to(device)\n",
    "\n",
    "        optimizer.zero_grad()  # Zero the parameter gradients\n",
    "\n",
    "        # Forward pass with dynamic channel selection\n",
    "        outputs = model(inputs, selected_channels)\n",
    "        loss = criterion(outputs, labels)\n",
    "        loss.backward()  # Backward pass\n",
    "        optimizer.step()  # Optimize the model\n",
    "\n",
    "        # Statistics\n",
    "        running_loss += loss.item() * inputs.size(0)\n",
    "        _, predicted = torch.max(outputs, 1)\n",
    "        total += labels.size(0)\n",
    "        correct += (predicted == labels).sum().item()\n",
    "\n",
    "    epoch_loss = running_loss / total\n",
    "    epoch_acc = correct / total * 100\n",
    "\n",
    "    # Validation\n",
    "    model.eval()  # Set model to evaluation mode\n",
    "    val_loss = 0.0\n",
    "    correct = 0\n",
    "    total = 0\n",
    "\n",
    "    with torch.no_grad():\n",
    "        for inputs, labels in val_loader:\n",
    "            inputs, labels = inputs.to(device), labels.to(device)\n",
    "            outputs = model(inputs, selected_channels)  # Ensure dynamic channel selection is used\n",
    "            loss = criterion(outputs, labels)\n",
    "            val_loss += loss.item() * inputs.size(0)\n",
    "            _, predicted = torch.max(outputs, 1)\n",
    "            total += labels.size(0)\n",
    "            correct += (predicted == labels).sum().item()\n",
    "\n",
    "    val_loss /= total\n",
    "    val_acc = correct / total * 100\n",
    "\n",
    "    print(f'Epoch {epoch + 1}: Train Loss: {epoch_loss:.4f} Train Acc: {epoch_acc:.2f}% Val Loss: {val_loss:.4f} Val Acc: {val_acc:.2f}%')\n",
    "\n",
    "    # Step the scheduler after each epoch (if using scheduler)\n",
    "    # scheduler.step(val_loss)\n",
    "\n",
    "    if val_loss < best_val_loss:\n",
    "        best_val_loss = val_loss\n",
    "        torch.save(model.state_dict(), f'part1/best_model_v3_{res}.pth')  # Save the best model\n",
    "        early_stopping_counter = 0\n",
    "    else:\n",
    "        early_stopping_counter += 1\n",
    "\n",
    "    if early_stopping_counter > 2:  # stops if no improvement after 3 epochs\n",
    "        print(\"Early stopping triggered.\")\n",
    "        break"
   ]
  },
  {
   "cell_type": "code",
   "execution_count": 11,
   "metadata": {},
   "outputs": [
    {
     "name": "stdout",
     "output_type": "stream",
     "text": [
      "1.670759300324652\n"
     ]
    }
   ],
   "source": [
    "print(best_val_loss)"
   ]
  },
  {
   "cell_type": "code",
   "execution_count": 12,
   "metadata": {},
   "outputs": [
    {
     "data": {
      "text/plain": [
       "ResNet(\n",
       "  (conv1): DynamicSelectiveConvLayer(\n",
       "    (attention): Attention2D(\n",
       "      (avgpool): AdaptiveAvgPool2d(output_size=1)\n",
       "      (fc1): Conv2d(3, 1, kernel_size=(1, 1), stride=(1, 1), bias=False)\n",
       "      (fc2): Conv2d(1, 4, kernel_size=(1, 1), stride=(1, 1))\n",
       "    )\n",
       "  )\n",
       "  (bn1): BatchNorm2d(64, eps=1e-05, momentum=0.1, affine=True, track_running_stats=True)\n",
       "  (relu): ReLU(inplace=True)\n",
       "  (maxpool): MaxPool2d(kernel_size=3, stride=2, padding=1, dilation=1, ceil_mode=False)\n",
       "  (layer1): Sequential(\n",
       "    (0): BasicBlock(\n",
       "      (conv1): Conv2d(64, 64, kernel_size=(3, 3), stride=(1, 1), padding=(1, 1), bias=False)\n",
       "      (bn1): BatchNorm2d(64, eps=1e-05, momentum=0.1, affine=True, track_running_stats=True)\n",
       "      (relu): ReLU(inplace=True)\n",
       "      (conv2): Conv2d(64, 64, kernel_size=(3, 3), stride=(1, 1), padding=(1, 1), bias=False)\n",
       "      (bn2): BatchNorm2d(64, eps=1e-05, momentum=0.1, affine=True, track_running_stats=True)\n",
       "    )\n",
       "    (1): BasicBlock(\n",
       "      (conv1): Conv2d(64, 64, kernel_size=(3, 3), stride=(1, 1), padding=(1, 1), bias=False)\n",
       "      (bn1): BatchNorm2d(64, eps=1e-05, momentum=0.1, affine=True, track_running_stats=True)\n",
       "      (relu): ReLU(inplace=True)\n",
       "      (conv2): Conv2d(64, 64, kernel_size=(3, 3), stride=(1, 1), padding=(1, 1), bias=False)\n",
       "      (bn2): BatchNorm2d(64, eps=1e-05, momentum=0.1, affine=True, track_running_stats=True)\n",
       "    )\n",
       "  )\n",
       "  (layer2): Sequential(\n",
       "    (0): BasicBlock(\n",
       "      (conv1): Conv2d(64, 128, kernel_size=(3, 3), stride=(2, 2), padding=(1, 1), bias=False)\n",
       "      (bn1): BatchNorm2d(128, eps=1e-05, momentum=0.1, affine=True, track_running_stats=True)\n",
       "      (relu): ReLU(inplace=True)\n",
       "      (conv2): Conv2d(128, 128, kernel_size=(3, 3), stride=(1, 1), padding=(1, 1), bias=False)\n",
       "      (bn2): BatchNorm2d(128, eps=1e-05, momentum=0.1, affine=True, track_running_stats=True)\n",
       "      (downsample): Sequential(\n",
       "        (0): Conv2d(64, 128, kernel_size=(1, 1), stride=(2, 2), bias=False)\n",
       "        (1): BatchNorm2d(128, eps=1e-05, momentum=0.1, affine=True, track_running_stats=True)\n",
       "      )\n",
       "    )\n",
       "    (1): BasicBlock(\n",
       "      (conv1): Conv2d(128, 128, kernel_size=(3, 3), stride=(1, 1), padding=(1, 1), bias=False)\n",
       "      (bn1): BatchNorm2d(128, eps=1e-05, momentum=0.1, affine=True, track_running_stats=True)\n",
       "      (relu): ReLU(inplace=True)\n",
       "      (conv2): Conv2d(128, 128, kernel_size=(3, 3), stride=(1, 1), padding=(1, 1), bias=False)\n",
       "      (bn2): BatchNorm2d(128, eps=1e-05, momentum=0.1, affine=True, track_running_stats=True)\n",
       "    )\n",
       "  )\n",
       "  (layer3): Sequential(\n",
       "    (0): BasicBlock(\n",
       "      (conv1): Conv2d(128, 256, kernel_size=(3, 3), stride=(2, 2), padding=(1, 1), bias=False)\n",
       "      (bn1): BatchNorm2d(256, eps=1e-05, momentum=0.1, affine=True, track_running_stats=True)\n",
       "      (relu): ReLU(inplace=True)\n",
       "      (conv2): Conv2d(256, 256, kernel_size=(3, 3), stride=(1, 1), padding=(1, 1), bias=False)\n",
       "      (bn2): BatchNorm2d(256, eps=1e-05, momentum=0.1, affine=True, track_running_stats=True)\n",
       "      (downsample): Sequential(\n",
       "        (0): Conv2d(128, 256, kernel_size=(1, 1), stride=(2, 2), bias=False)\n",
       "        (1): BatchNorm2d(256, eps=1e-05, momentum=0.1, affine=True, track_running_stats=True)\n",
       "      )\n",
       "    )\n",
       "    (1): BasicBlock(\n",
       "      (conv1): Conv2d(256, 256, kernel_size=(3, 3), stride=(1, 1), padding=(1, 1), bias=False)\n",
       "      (bn1): BatchNorm2d(256, eps=1e-05, momentum=0.1, affine=True, track_running_stats=True)\n",
       "      (relu): ReLU(inplace=True)\n",
       "      (conv2): Conv2d(256, 256, kernel_size=(3, 3), stride=(1, 1), padding=(1, 1), bias=False)\n",
       "      (bn2): BatchNorm2d(256, eps=1e-05, momentum=0.1, affine=True, track_running_stats=True)\n",
       "    )\n",
       "  )\n",
       "  (layer4): Sequential(\n",
       "    (0): BasicBlock(\n",
       "      (conv1): Conv2d(256, 512, kernel_size=(3, 3), stride=(2, 2), padding=(1, 1), bias=False)\n",
       "      (bn1): BatchNorm2d(512, eps=1e-05, momentum=0.1, affine=True, track_running_stats=True)\n",
       "      (relu): ReLU(inplace=True)\n",
       "      (conv2): Conv2d(512, 512, kernel_size=(3, 3), stride=(1, 1), padding=(1, 1), bias=False)\n",
       "      (bn2): BatchNorm2d(512, eps=1e-05, momentum=0.1, affine=True, track_running_stats=True)\n",
       "      (downsample): Sequential(\n",
       "        (0): Conv2d(256, 512, kernel_size=(1, 1), stride=(2, 2), bias=False)\n",
       "        (1): BatchNorm2d(512, eps=1e-05, momentum=0.1, affine=True, track_running_stats=True)\n",
       "      )\n",
       "    )\n",
       "    (1): BasicBlock(\n",
       "      (conv1): Conv2d(512, 512, kernel_size=(3, 3), stride=(1, 1), padding=(1, 1), bias=False)\n",
       "      (bn1): BatchNorm2d(512, eps=1e-05, momentum=0.1, affine=True, track_running_stats=True)\n",
       "      (relu): ReLU(inplace=True)\n",
       "      (conv2): Conv2d(512, 512, kernel_size=(3, 3), stride=(1, 1), padding=(1, 1), bias=False)\n",
       "      (bn2): BatchNorm2d(512, eps=1e-05, momentum=0.1, affine=True, track_running_stats=True)\n",
       "    )\n",
       "  )\n",
       "  (avgpool): AdaptiveAvgPool2d(output_size=(1, 1))\n",
       "  (fc): Linear(in_features=512, out_features=50, bias=True)\n",
       ")"
      ]
     },
     "execution_count": 12,
     "metadata": {},
     "output_type": "execute_result"
    }
   ],
   "source": [
    "model = ResNet(BasicBlock, [2, 2, 2, 2], num_classes=50)\n",
    "model.load_state_dict(torch.load(f'part1/best_model_v3_{res}.pth'))\n",
    "model.eval()  # Set the model to evaluation mode\n",
    "model.to(device)  # Move model to the appropriate device (CPU or GPU)"
   ]
  },
  {
   "cell_type": "code",
   "execution_count": 13,
   "metadata": {},
   "outputs": [],
   "source": [
    "# Function to make predictions and optionally evaluate the model with selected channels\n",
    "def predict(model, data_loader, selected_channels):\n",
    "    device = torch.device(\"cuda\" if torch.cuda.is_available() else \"cpu\")\n",
    "    model.to(device)\n",
    "    \n",
    "    all_predictions = []\n",
    "    all_labels = []  # Optional, only if labels are available in the test set\n",
    "\n",
    "    with torch.no_grad():  # No need to track gradients for predictions\n",
    "        for inputs, labels in data_loader:\n",
    "            inputs = inputs.to(device)\n",
    "            # Update the model call to include selected_channels\n",
    "            outputs = model(inputs, selected_channels)\n",
    "            _, predicted = torch.max(outputs, 1)\n",
    "            all_predictions.extend(predicted.cpu().numpy())\n",
    "            all_labels.extend(labels.cpu().numpy())  # Optional\n",
    "\n",
    "    return all_predictions, all_labels\n",
    "\n",
    "# Example of using the updated predict function\n",
    "selected_channels = [0, 1, 2]  #Use to inference different channel combinations (0 = Red, 1 = Green, 2 = Blue)\n",
    "predictions, labels = predict(model, test_loader, selected_channels)"
   ]
  },
  {
   "cell_type": "code",
   "execution_count": 14,
   "metadata": {},
   "outputs": [
    {
     "name": "stdout",
     "output_type": "stream",
     "text": [
      "Accuracy on test data: 52.00%\n"
     ]
    }
   ],
   "source": [
    "if labels:\n",
    "    accuracy = accuracy_score(labels, predictions) * 100\n",
    "    print(f\"Accuracy on test data: {accuracy:.2f}%\")"
   ]
  },
  {
   "cell_type": "code",
   "execution_count": 15,
   "metadata": {},
   "outputs": [],
   "source": [
    "# Example of saving predictions to a CSV file\n",
    "result_df = pd.DataFrame({'PredictedLabel': predictions})\n",
    "result_df.to_csv(f'part1/predict_rgb_v3_{res}.csv', index=False)"
   ]
  },
  {
   "cell_type": "code",
   "execution_count": 18,
   "metadata": {},
   "outputs": [
    {
     "name": "stdout",
     "output_type": "stream",
     "text": [
      "Accuracy on test data (RG): 4.89%\n"
     ]
    }
   ],
   "source": [
    "selected_channels = [0, 1]  # For example, use only Red and Green channels\n",
    "predictions, labels = predict(model, test_loader, selected_channels)\n",
    "if labels:\n",
    "    accuracy = accuracy_score(labels, predictions) * 100\n",
    "    print(f\"Accuracy on test data (RG): {accuracy:.2f}%\")"
   ]
  },
  {
   "cell_type": "code",
   "execution_count": 19,
   "metadata": {},
   "outputs": [
    {
     "name": "stdout",
     "output_type": "stream",
     "text": [
      "Accuracy on test data (RB): 4.00%\n"
     ]
    }
   ],
   "source": [
    "selected_channels = [0, 2]  # For example, use only Red and Green channels\n",
    "predictions, labels = predict(model, test_loader, selected_channels)\n",
    "if labels:\n",
    "    accuracy = accuracy_score(labels, predictions) * 100\n",
    "    print(f\"Accuracy on test data (RB): {accuracy:.2f}%\")"
   ]
  },
  {
   "cell_type": "code",
   "execution_count": 20,
   "metadata": {},
   "outputs": [
    {
     "name": "stdout",
     "output_type": "stream",
     "text": [
      "Accuracy on test data (GB): 3.78%\n"
     ]
    }
   ],
   "source": [
    "selected_channels = [1, 2]  # For example, use only Red and Green channels\n",
    "predictions, labels = predict(model, test_loader, selected_channels)\n",
    "if labels:\n",
    "    accuracy = accuracy_score(labels, predictions) * 100\n",
    "    print(f\"Accuracy on test data (GB): {accuracy:.2f}%\")"
   ]
  },
  {
   "cell_type": "code",
   "execution_count": 21,
   "metadata": {},
   "outputs": [
    {
     "name": "stdout",
     "output_type": "stream",
     "text": [
      "Accuracy on test data (R): 2.89%\n"
     ]
    }
   ],
   "source": [
    "selected_channels = [0]  # For example, use only Red and Green channels\n",
    "predictions, labels = predict(model, test_loader, selected_channels)\n",
    "if labels:\n",
    "    accuracy = accuracy_score(labels, predictions) * 100\n",
    "    print(f\"Accuracy on test data (R): {accuracy:.2f}%\")"
   ]
  },
  {
   "cell_type": "code",
   "execution_count": 22,
   "metadata": {},
   "outputs": [
    {
     "name": "stdout",
     "output_type": "stream",
     "text": [
      "Accuracy on test data (G): 2.00%\n"
     ]
    }
   ],
   "source": [
    "selected_channels = [1]  # For example, use only Red and Green channels\n",
    "predictions, labels = predict(model, test_loader, selected_channels)\n",
    "if labels:\n",
    "    accuracy = accuracy_score(labels, predictions) * 100\n",
    "    print(f\"Accuracy on test data (G): {accuracy:.2f}%\")"
   ]
  },
  {
   "cell_type": "code",
   "execution_count": 23,
   "metadata": {},
   "outputs": [
    {
     "name": "stdout",
     "output_type": "stream",
     "text": [
      "Accuracy on test data (B): 2.44%\n"
     ]
    }
   ],
   "source": [
    "selected_channels = [2]  # For example, use only Red and Green channels\n",
    "predictions, labels = predict(model, test_loader, selected_channels)\n",
    "if labels:\n",
    "    accuracy = accuracy_score(labels, predictions) * 100\n",
    "    print(f\"Accuracy on test data (B): {accuracy:.2f}%\")"
   ]
  },
  {
   "cell_type": "code",
   "execution_count": 16,
   "metadata": {},
   "outputs": [
    {
     "name": "stdout",
     "output_type": "stream",
     "text": [
      "Classification Report:\n",
      "              precision    recall  f1-score   support\n",
      "\n",
      "           0       0.00      0.00      0.00         9\n",
      "           1       0.83      0.56      0.67         9\n",
      "           2       0.60      0.67      0.63         9\n",
      "           3       0.50      0.78      0.61         9\n",
      "           4       0.73      0.89      0.80         9\n",
      "           5       0.67      0.44      0.53         9\n",
      "           6       1.00      0.56      0.71         9\n",
      "           7       0.83      0.56      0.67         9\n",
      "           8       0.23      0.33      0.27         9\n",
      "           9       0.40      0.22      0.29         9\n",
      "          10       0.50      0.44      0.47         9\n",
      "          11       0.00      0.00      0.00         9\n",
      "          12       0.80      0.44      0.57         9\n",
      "          13       0.14      0.22      0.17         9\n",
      "          14       0.57      0.44      0.50         9\n",
      "          15       0.60      0.33      0.43         9\n",
      "          16       0.31      0.44      0.36         9\n",
      "          17       0.80      0.44      0.57         9\n",
      "          18       0.60      0.67      0.63         9\n",
      "          19       0.78      0.78      0.78         9\n",
      "          20       0.33      0.44      0.38         9\n",
      "          21       0.14      0.22      0.17         9\n",
      "          22       0.30      0.33      0.32         9\n",
      "          23       0.43      0.67      0.52         9\n",
      "          24       0.64      0.78      0.70         9\n",
      "          25       0.62      0.56      0.59         9\n",
      "          26       1.00      0.33      0.50         9\n",
      "          27       0.75      0.33      0.46         9\n",
      "          28       0.55      0.67      0.60         9\n",
      "          29       0.38      0.33      0.35         9\n",
      "          30       0.50      0.33      0.40         9\n",
      "          31       0.45      0.56      0.50         9\n",
      "          32       0.36      0.89      0.52         9\n",
      "          33       0.86      0.67      0.75         9\n",
      "          34       0.67      0.44      0.53         9\n",
      "          35       0.67      0.67      0.67         9\n",
      "          36       0.56      0.56      0.56         9\n",
      "          37       0.50      0.78      0.61         9\n",
      "          38       0.33      0.44      0.38         9\n",
      "          39       0.56      0.56      0.56         9\n",
      "          40       0.75      0.67      0.71         9\n",
      "          41       0.67      0.22      0.33         9\n",
      "          42       0.67      0.44      0.53         9\n",
      "          43       0.58      0.78      0.67         9\n",
      "          44       0.90      1.00      0.95         9\n",
      "          45       0.75      0.67      0.71         9\n",
      "          46       0.53      1.00      0.69         9\n",
      "          47       0.38      0.56      0.45         9\n",
      "          48       0.80      0.44      0.57         9\n",
      "          49       0.67      0.44      0.53         9\n",
      "\n",
      "    accuracy                           0.52       450\n",
      "   macro avg       0.56      0.52      0.52       450\n",
      "weighted avg       0.56      0.52      0.52       450\n",
      "\n",
      "Confusion Matrix:\n",
      "[[0 0 0 ... 0 0 0]\n",
      " [0 5 2 ... 0 0 0]\n",
      " [0 0 6 ... 0 0 0]\n",
      " ...\n",
      " [0 0 0 ... 5 0 0]\n",
      " [0 0 0 ... 2 4 1]\n",
      " [0 0 0 ... 1 0 4]]\n"
     ]
    }
   ],
   "source": [
    "# Print classification report\n",
    "print(\"Classification Report:\")\n",
    "print(classification_report(labels, predictions))\n",
    "\n",
    "# Print confusion matrix\n",
    "print(\"Confusion Matrix:\")\n",
    "cm = confusion_matrix(labels, predictions)\n",
    "print(cm)"
   ]
  },
  {
   "cell_type": "code",
   "execution_count": 17,
   "metadata": {},
   "outputs": [
    {
     "data": {
      "image/png": "[encoded data removed]",
      "text/plain": [
       "<Figure size 1200x1000 with 2 Axes>"
      ]
     },
     "metadata": {},
     "output_type": "display_data"
    }
   ],
   "source": [
    "plt.figure(figsize=(12,10))\n",
    "sns.heatmap(cm, annot=True, fmt=\"d\", cmap=\"Blues\")\n",
    "plt.title('Confusion Matrix')\n",
    "plt.xlabel('Predicted Labels')\n",
    "plt.ylabel('True Labels')\n",
    "plt.show()"
   ]
  },
  {
   "cell_type": "code",
   "execution_count": null,
   "metadata": {},
   "outputs": [],
   "source": []
  }
 ],
 "metadata": {
  "accelerator": "GPU",
  "colab": {
   "gpuType": "T4",
   "provenance": []
  },
  "kernelspec": {
   "display_name": "Python 3 (ipykernel)",
   "language": "python",
   "name": "python3"
  },
  "language_info": {
   "codemirror_mode": {
    "name": "ipython",
    "version": 3
   },
   "file_extension": ".py",
   "mimetype": "text/x-python",
   "name": "python",
   "nbconvert_exporter": "python",
   "pygments_lexer": "ipython3",
   "version": "3.11.5"
  }
 },
 "nbformat": 4,
 "nbformat_minor": 4
}
