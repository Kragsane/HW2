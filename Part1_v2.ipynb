{
 "cells": [
  {
   "cell_type": "code",
   "execution_count": 1,
   "metadata": {
    "id": "0SD5u8Da3yGT"
   },
   "outputs": [
    {
     "name": "stderr",
     "output_type": "stream",
     "text": [
      "/opt/miniconda3/lib/python3.11/site-packages/tqdm/auto.py:21: TqdmWarning: IProgress not found. Please update jupyter and ipywidgets. See https://ipywidgets.readthedocs.io/en/stable/user_install.html\n",
      "  from .autonotebook import tqdm as notebook_tqdm\n"
     ]
    },
    {
     "data": {
      "text/plain": [
       "243941"
      ]
     },
     "execution_count": 1,
     "metadata": {},
     "output_type": "execute_result"
    }
   ],
   "source": [
    "import os\n",
    "import numpy as np\n",
    "import pandas as pd\n",
    "import matplotlib.pyplot as plt\n",
    "import seaborn as sns\n",
    "import torch\n",
    "import torch.nn as nn\n",
    "import torch.nn.functional as F\n",
    "from torch.utils.data import Dataset, DataLoader\n",
    "from torchvision import transforms\n",
    "import torch.optim as optim\n",
    "from sklearn.metrics import classification_report, confusion_matrix, accuracy_score\n",
    "from calflops import calculate_flops\n",
    "work_path = \"/home/re6125015/DeepL/images\"\n",
    "os.chdir(work_path)\n",
    "os.getpid()"
   ]
  },
  {
   "cell_type": "code",
   "execution_count": 2,
   "metadata": {
    "id": "XswaMtK_w5Xx"
   },
   "outputs": [],
   "source": [
    "def load_npz_data(file_path):\n",
    "    loaded = np.load(file_path)\n",
    "    X = loaded['array1']  # Adjust 'array1' if your image data key is different\n",
    "    y = loaded['array2']  # Adjust 'array2' if your label data key is different\n",
    "    return X, y\n",
    "\n",
    "X_train, y_train = load_npz_data('train.npz')\n",
    "X_val, y_val = load_npz_data('val.npz')\n",
    "X_test, y_test = load_npz_data('test.npz')"
   ]
  },
  {
   "cell_type": "code",
   "execution_count": 3,
   "metadata": {
    "id": "SIzk7-G06OK1"
   },
   "outputs": [],
   "source": [
    "class NPZDataset(Dataset):\n",
    "    def __init__(self, images, labels, transform=None):\n",
    "        self.images = images\n",
    "        self.labels = labels\n",
    "        self.transform = transform\n",
    "\n",
    "    def __len__(self):\n",
    "        return len(self.labels)\n",
    "\n",
    "    def __getitem__(self, idx):\n",
    "        image = self.images[idx]\n",
    "        label = self.labels[idx]\n",
    "        if self.transform:\n",
    "            image = self.transform(image)\n",
    "        return image, torch.tensor(label, dtype=torch.long)  # Ensure label is torch.long"
   ]
  },
  {
   "cell_type": "code",
   "execution_count": 4,
   "metadata": {
    "id": "8qwDIfIkxIQA"
   },
   "outputs": [],
   "source": [
    "res = 84\n",
    "transform = transforms.Compose([\n",
    "    transforms.ToPILImage(),\n",
    "    transforms.Resize((res, res)),  # ResNet typically uses 224x224 input images\n",
    "    transforms.ToTensor(),\n",
    "    transforms.Normalize(mean=[0.485, 0.456, 0.406], std=[0.229, 0.224, 0.225])\n",
    "])\n",
    "\n",
    "# Create datasets\n",
    "train_dataset = NPZDataset(X_train, y_train, transform=transform)\n",
    "val_dataset = NPZDataset(X_val, y_val, transform=transform)\n",
    "test_dataset = NPZDataset(X_test, y_test, transform=transform)\n",
    "\n",
    "# Data loaders\n",
    "train_loader = DataLoader(train_dataset, batch_size=64, shuffle=True, num_workers=4)\n",
    "val_loader = DataLoader(val_dataset, batch_size=64, shuffle=False, num_workers=4)\n",
    "test_loader = DataLoader(test_dataset, batch_size=64, shuffle=False, num_workers=4)"
   ]
  },
  {
   "cell_type": "code",
   "execution_count": 5,
   "metadata": {
    "id": "17Pw46eH86A-"
   },
   "outputs": [],
   "source": [
    "class DynamicSelectiveConvLayer(nn.Module):\n",
    "    def __init__(self, max_channels, out_channels, kernel_size, stride=1, padding=1, bias=False):\n",
    "        super(DynamicSelectiveConvLayer, self).__init__()\n",
    "        self.max_channels = max_channels\n",
    "        self.out_channels = out_channels\n",
    "        self.kernel_size = kernel_size\n",
    "        self.stride = stride\n",
    "        self.padding = padding\n",
    "        self.bias_param = bias\n",
    "        \n",
    "        # Instead of generating weights for max_channels, generate for each possible subset size\n",
    "        self.weight_gens = nn.ModuleDict({\n",
    "            f\"{i}\": nn.Linear(i, out_channels * i * kernel_size * kernel_size)\n",
    "            for i in range(1, max_channels + 1)\n",
    "        })\n",
    "        if bias:\n",
    "            self.bias = nn.Parameter(torch.zeros(out_channels))\n",
    "        else:\n",
    "            self.register_parameter('bias', None)\n",
    "\n",
    "    def forward(self, x, selected_channels):\n",
    "        # Generate channel mask based on selected_channels\n",
    "        channel_mask = torch.zeros(self.max_channels, dtype=torch.bool)\n",
    "        channel_indices = torch.tensor(selected_channels, dtype=torch.long)\n",
    "        channel_mask[channel_indices] = True\n",
    "        \n",
    "        # Apply mask to filter out unwanted channels\n",
    "        x_selected = x[:, channel_mask, :, :]\n",
    "        \n",
    "        # Generate dynamic weights according to the number of selected channels\n",
    "        num_selected_channels = x_selected.size(1)\n",
    "        avg_pool = F.adaptive_avg_pool2d(x_selected, 1).view(x_selected.size(0), -1)\n",
    "        dynamic_weights = self.weight_gens[f\"{num_selected_channels}\"](avg_pool)\n",
    "        dynamic_weights = dynamic_weights.view(-1, self.out_channels, num_selected_channels, self.kernel_size, self.kernel_size)\n",
    "\n",
    "        # Perform convolution for each batch independently\n",
    "        outputs = [F.conv2d(x_selected[i].unsqueeze(0), dynamic_weights[i], self.bias, self.stride, self.padding)\n",
    "                   for i in range(x_selected.size(0))]\n",
    "        return torch.cat(outputs, dim=0)"
   ]
  },
  {
   "cell_type": "code",
   "execution_count": 6,
   "metadata": {
    "id": "Qmv7cFCKFlog"
   },
   "outputs": [],
   "source": [
    "class BasicBlock(nn.Module):\n",
    "    expansion = 1\n",
    "\n",
    "    def __init__(self, in_channels, out_channels, stride=1, downsample=None):\n",
    "        super(BasicBlock, self).__init__()\n",
    "        self.conv1 = nn.Conv2d(in_channels, out_channels, kernel_size=3, stride=stride, padding=1, bias=False)\n",
    "        self.bn1 = nn.BatchNorm2d(out_channels)\n",
    "        self.relu = nn.ReLU(inplace=True)\n",
    "        self.conv2 = nn.Conv2d(out_channels, out_channels, kernel_size=3, stride=1, padding=1, bias=False)\n",
    "        self.bn2 = nn.BatchNorm2d(out_channels)\n",
    "        self.downsample = downsample\n",
    "        self.stride = stride\n",
    "\n",
    "    def forward(self, x):\n",
    "        residual = x\n",
    "\n",
    "        out = self.conv1(x)\n",
    "        out = self.bn1(out)\n",
    "        out = self.relu(out)\n",
    "\n",
    "        out = self.conv2(out)\n",
    "        out = self.bn2(out)\n",
    "\n",
    "        if self.downsample is not None:\n",
    "            residual = self.downsample(x)\n",
    "\n",
    "        out += residual\n",
    "        out = self.relu(out)\n",
    "\n",
    "        return out"
   ]
  },
  {
   "cell_type": "code",
   "execution_count": 7,
   "metadata": {
    "id": "XUbzkGKfxLhF"
   },
   "outputs": [],
   "source": [
    "class ResNet(nn.Module):\n",
    "    def __init__(self, block, layers, num_classes=1000):\n",
    "        super(ResNet, self).__init__()\n",
    "        self.in_channels = 64\n",
    "        self.conv1 = DynamicSelectiveConvLayer(3, 64, kernel_size=3, stride=1, padding=1, bias=False)\n",
    "        self.bn1 = nn.BatchNorm2d(64)\n",
    "        self.relu = nn.ReLU(inplace=True)\n",
    "        self.maxpool = nn.MaxPool2d(kernel_size=3, stride=2, padding=1)\n",
    "        self.layer1 = self._make_layer(block, 64, layers[0])\n",
    "        self.layer2 = self._make_layer(block, 128, layers[1], stride=2)\n",
    "        self.layer3 = self._make_layer(block, 256, layers[2], stride=2)\n",
    "        self.layer4 = self._make_layer(block, 512, layers[3], stride=2)\n",
    "        self.avgpool = nn.AdaptiveAvgPool2d((1, 1))\n",
    "        self.fc = nn.Linear(512 * block.expansion, num_classes)\n",
    "\n",
    "    def _make_layer(self, block, out_channels, blocks, stride=1):\n",
    "        downsample = None\n",
    "        if stride != 1 or self.in_channels != out_channels * block.expansion:\n",
    "            downsample = nn.Sequential(\n",
    "                nn.Conv2d(self.in_channels, out_channels * block.expansion, kernel_size=1, stride=stride, bias=False),\n",
    "                nn.BatchNorm2d(out_channels * block.expansion),\n",
    "            )\n",
    "        layers = []\n",
    "        layers.append(block(self.in_channels, out_channels, stride, downsample))\n",
    "        self.in_channels = out_channels * block.expansion\n",
    "        for _ in range(1, blocks):\n",
    "            layers.append(block(self.in_channels, out_channels))\n",
    "        return nn.Sequential(*layers)\n",
    "\n",
    "    def forward(self, x, selected_channels = [0, 1, 2]):\n",
    "        x = self.conv1(x, selected_channels)\n",
    "        x = self.bn1(x)\n",
    "        x = self.relu(x)\n",
    "        x = self.maxpool(x)\n",
    "        x = self.layer1(x)\n",
    "        x = self.layer2(x)\n",
    "        x = self.layer3(x)\n",
    "        x = self.layer4(x)\n",
    "        x = self.avgpool(x)\n",
    "        x = torch.flatten(x, 1)\n",
    "        x = self.fc(x)\n",
    "        return x"
   ]
  },
  {
   "cell_type": "code",
   "execution_count": 8,
   "metadata": {
    "id": "SvJUAptHFvNz"
   },
   "outputs": [],
   "source": [
    "device = torch.device(\"cuda\" if torch.cuda.is_available() else \"cpu\")\n",
    "\n",
    "model = ResNet(BasicBlock, [2, 2, 2, 2], num_classes=50).to(device)\n",
    "criterion = nn.CrossEntropyLoss()\n",
    "optimizer = optim.Adam(model.parameters(), lr=0.001, weight_decay=1e-4)\n",
    "\n",
    "# # Define a StepLR scheduler\n",
    "# scheduler = torch.optim.lr_scheduler.ReduceLROnPlateau(optimizer, 'min')"
   ]
  },
  {
   "cell_type": "code",
   "execution_count": 9,
   "metadata": {},
   "outputs": [
    {
     "name": "stdout",
     "output_type": "stream",
     "text": [
      "\n",
      "------------------------------------- Calculate Flops Results -------------------------------------\n",
      "Notations:\n",
      "number of parameters (Params), number of multiply-accumulate operations(MACs),\n",
      "number of floating-point operations (FLOPs), floating-point operations per second (FLOPS),\n",
      "fwd FLOPs (model forward propagation FLOPs), bwd FLOPs (model backward propagation FLOPs),\n",
      "default model backpropagation takes 2.00 times as much computation as forward propagation.\n",
      "\n",
      "Total Training Params:                                                  11.2 M  \n",
      "fwd MACs:                                                               67.7947 GMACs\n",
      "fwd FLOPs:                                                              135.889 GFLOPS\n",
      "fwd+bwd MACs:                                                           203.384 GMACs\n",
      "fwd+bwd FLOPs:                                                          407.667 GFLOPS\n",
      "\n",
      "-------------------------------- Detailed Calculated FLOPs Results --------------------------------\n",
      "Each module caculated is listed after its name in the following order: \n",
      "params, percentage of total params, MACs, percentage of total MACs, FLOPS, percentage of total FLOPs\n",
      "\n",
      "Note: 1. A module can have torch.nn.module or torch.nn.functional to compute logits (e.g. CrossEntropyLoss). \n",
      " They are not counted as submodules in calflops and not to be printed out. However they make up the difference between a parent's MACs and the sum of its submodules'.\n",
      "2. Number of floating-point operations is a theoretical estimation, thus FLOPS computed using that could be larger than the maximum system throughput.\n",
      "\n",
      "ResNet(\n",
      "  11.2 M = 100% Params, 67.79 GMACs = 100% MACs, 135.89 GFLOPS = 100% FLOPs\n",
      "  (conv1): DynamicSelectiveConvLayer(\n",
      "    11.52 K = 0.1028% Params, 780.67 MMACs = 1.1515% MACs, 1.56 GFLOPS = 1.15% FLOPs\n",
      "    (weight_gens): ModuleDict(\n",
      "      11.52 K = 0.1028% Params, 331.78 KMACs = 0.0005% MACs, 663.55 KFLOPS = 0.0005% FLOPs\n",
      "      (1): Linear(1.15 K = 0.0103% Params, 0 MACs = 0% MACs, 0 FLOPS = 0% FLOPs, in_features=1, out_features=576, bias=True)\n",
      "      (2): Linear(3.46 K = 0.0308% Params, 0 MACs = 0% MACs, 0 FLOPS = 0% FLOPs, in_features=2, out_features=1152, bias=True)\n",
      "      (3): Linear(6.91 K = 0.0617% Params, 331.78 KMACs = 0.0005% MACs, 663.55 KFLOPS = 0.0005% FLOPs, in_features=3, out_features=1728, bias=True)\n",
      "    )\n",
      "  )\n",
      "  (bn1): BatchNorm2d(128 = 0.0011% Params, 0 MACs = 0% MACs, 57.8 MFLOPS = 0.0425% FLOPs, 64, eps=1e-05, momentum=0.1, affine=True, track_running_stats=True)\n",
      "  (relu): ReLU(0 = 0% Params, 0 MACs = 0% MACs, 28.9 MFLOPS = 0.0213% FLOPs, inplace=True)\n",
      "  (maxpool): MaxPool2d(0 = 0% Params, 0 MACs = 0% MACs, 28.9 MFLOPS = 0.0213% FLOPs, kernel_size=3, stride=2, padding=1, dilation=1, ceil_mode=False)\n",
      "  (layer1): Sequential(\n",
      "    147.97 K = 1.3206% Params, 16.65 GMACs = 24.5553% MACs, 33.38 GFLOPS = 24.565% FLOPs\n",
      "    (0): BasicBlock(\n",
      "      73.98 K = 0.6603% Params, 8.32 GMACs = 12.2777% MACs, 16.69 GFLOPS = 12.2825% FLOPs\n",
      "      (conv1): Conv2d(36.86 K = 0.329% Params, 4.16 GMACs = 6.1388% MACs, 8.32 GFLOPS = 6.1253% FLOPs, 64, 64, kernel_size=(3, 3), stride=(1, 1), padding=(1, 1), bias=False)\n",
      "      (bn1): BatchNorm2d(128 = 0.0011% Params, 0 MACs = 0% MACs, 14.45 MFLOPS = 0.0106% FLOPs, 64, eps=1e-05, momentum=0.1, affine=True, track_running_stats=True)\n",
      "      (relu): ReLU(0 = 0% Params, 0 MACs = 0% MACs, 14.45 MFLOPS = 0.0106% FLOPs, inplace=True)\n",
      "      (conv2): Conv2d(36.86 K = 0.329% Params, 4.16 GMACs = 6.1388% MACs, 8.32 GFLOPS = 6.1253% FLOPs, 64, 64, kernel_size=(3, 3), stride=(1, 1), padding=(1, 1), bias=False)\n",
      "      (bn2): BatchNorm2d(128 = 0.0011% Params, 0 MACs = 0% MACs, 14.45 MFLOPS = 0.0106% FLOPs, 64, eps=1e-05, momentum=0.1, affine=True, track_running_stats=True)\n",
      "    )\n",
      "    (1): BasicBlock(\n",
      "      73.98 K = 0.6603% Params, 8.32 GMACs = 12.2777% MACs, 16.69 GFLOPS = 12.2825% FLOPs\n",
      "      (conv1): Conv2d(36.86 K = 0.329% Params, 4.16 GMACs = 6.1388% MACs, 8.32 GFLOPS = 6.1253% FLOPs, 64, 64, kernel_size=(3, 3), stride=(1, 1), padding=(1, 1), bias=False)\n",
      "      (bn1): BatchNorm2d(128 = 0.0011% Params, 0 MACs = 0% MACs, 14.45 MFLOPS = 0.0106% FLOPs, 64, eps=1e-05, momentum=0.1, affine=True, track_running_stats=True)\n",
      "      (relu): ReLU(0 = 0% Params, 0 MACs = 0% MACs, 14.45 MFLOPS = 0.0106% FLOPs, inplace=True)\n",
      "      (conv2): Conv2d(36.86 K = 0.329% Params, 4.16 GMACs = 6.1388% MACs, 8.32 GFLOPS = 6.1253% FLOPs, 64, 64, kernel_size=(3, 3), stride=(1, 1), padding=(1, 1), bias=False)\n",
      "      (bn2): BatchNorm2d(128 = 0.0011% Params, 0 MACs = 0% MACs, 14.45 MFLOPS = 0.0106% FLOPs, 64, eps=1e-05, momentum=0.1, affine=True, track_running_stats=True)\n",
      "    )\n",
      "  )\n",
      "  (layer2): Sequential(\n",
      "    525.57 K = 4.6908% Params, 14.8 GMACs = 21.8269% MACs, 29.65 GFLOPS = 21.816% FLOPs\n",
      "    (0): BasicBlock(\n",
      "      230.14 K = 2.0541% Params, 6.47 GMACs = 9.5493% MACs, 12.98 GFLOPS = 9.5495% FLOPs\n",
      "      (conv1): Conv2d(73.73 K = 0.658% Params, 2.08 GMACs = 3.0694% MACs, 4.16 GFLOPS = 3.0626% FLOPs, 64, 128, kernel_size=(3, 3), stride=(2, 2), padding=(1, 1), bias=False)\n",
      "      (bn1): BatchNorm2d(256 = 0.0023% Params, 0 MACs = 0% MACs, 7.23 MFLOPS = 0.0053% FLOPs, 128, eps=1e-05, momentum=0.1, affine=True, track_running_stats=True)\n",
      "      (relu): ReLU(0 = 0% Params, 0 MACs = 0% MACs, 7.23 MFLOPS = 0.0053% FLOPs, inplace=True)\n",
      "      (conv2): Conv2d(147.46 K = 1.3161% Params, 4.16 GMACs = 6.1388% MACs, 8.32 GFLOPS = 6.1253% FLOPs, 128, 128, kernel_size=(3, 3), stride=(1, 1), padding=(1, 1), bias=False)\n",
      "      (bn2): BatchNorm2d(256 = 0.0023% Params, 0 MACs = 0% MACs, 7.23 MFLOPS = 0.0053% FLOPs, 128, eps=1e-05, momentum=0.1, affine=True, track_running_stats=True)\n",
      "      (downsample): Sequential(\n",
      "        8.45 K = 0.0754% Params, 231.21 MMACs = 0.341% MACs, 469.65 MFLOPS = 0.3456% FLOPs\n",
      "        (0): Conv2d(8.19 K = 0.0731% Params, 231.21 MMACs = 0.341% MACs, 462.42 MFLOPS = 0.3403% FLOPs, 64, 128, kernel_size=(1, 1), stride=(2, 2), bias=False)\n",
      "        (1): BatchNorm2d(256 = 0.0023% Params, 0 MACs = 0% MACs, 7.23 MFLOPS = 0.0053% FLOPs, 128, eps=1e-05, momentum=0.1, affine=True, track_running_stats=True)\n",
      "      )\n",
      "    )\n",
      "    (1): BasicBlock(\n",
      "      295.42 K = 2.6367% Params, 8.32 GMACs = 12.2777% MACs, 16.67 GFLOPS = 12.2665% FLOPs\n",
      "      (conv1): Conv2d(147.46 K = 1.3161% Params, 4.16 GMACs = 6.1388% MACs, 8.32 GFLOPS = 6.1253% FLOPs, 128, 128, kernel_size=(3, 3), stride=(1, 1), padding=(1, 1), bias=False)\n",
      "      (bn1): BatchNorm2d(256 = 0.0023% Params, 0 MACs = 0% MACs, 7.23 MFLOPS = 0.0053% FLOPs, 128, eps=1e-05, momentum=0.1, affine=True, track_running_stats=True)\n",
      "      (relu): ReLU(0 = 0% Params, 0 MACs = 0% MACs, 7.23 MFLOPS = 0.0053% FLOPs, inplace=True)\n",
      "      (conv2): Conv2d(147.46 K = 1.3161% Params, 4.16 GMACs = 6.1388% MACs, 8.32 GFLOPS = 6.1253% FLOPs, 128, 128, kernel_size=(3, 3), stride=(1, 1), padding=(1, 1), bias=False)\n",
      "      (bn2): BatchNorm2d(256 = 0.0023% Params, 0 MACs = 0% MACs, 7.23 MFLOPS = 0.0053% FLOPs, 128, eps=1e-05, momentum=0.1, affine=True, track_running_stats=True)\n",
      "    )\n",
      "  )\n",
      "  (layer3): Sequential(\n",
      "    2.1 M = 18.7403% Params, 16.24 GMACs = 23.9552% MACs, 32.51 GFLOPS = 23.9228% FLOPs\n",
      "    (0): BasicBlock(\n",
      "      919.04 K = 8.2026% Params, 7.11 GMACs = 10.4804% MACs, 14.23 GFLOPS = 10.469% FLOPs\n",
      "      (conv1): Conv2d(294.91 K = 2.6321% Params, 2.28 GMACs = 3.3687% MACs, 4.57 GFLOPS = 3.3613% FLOPs, 128, 256, kernel_size=(3, 3), stride=(2, 2), padding=(1, 1), bias=False)\n",
      "      (bn1): BatchNorm2d(512 = 0.0046% Params, 0 MACs = 0% MACs, 3.96 MFLOPS = 0.0029% FLOPs, 256, eps=1e-05, momentum=0.1, affine=True, track_running_stats=True)\n",
      "      (relu): ReLU(0 = 0% Params, 0 MACs = 0% MACs, 3.96 MFLOPS = 0.0029% FLOPs, inplace=True)\n",
      "      (conv2): Conv2d(589.82 K = 5.2643% Params, 4.57 GMACs = 6.7374% MACs, 9.14 GFLOPS = 6.7225% FLOPs, 256, 256, kernel_size=(3, 3), stride=(1, 1), padding=(1, 1), bias=False)\n",
      "      (bn2): BatchNorm2d(512 = 0.0046% Params, 0 MACs = 0% MACs, 3.96 MFLOPS = 0.0029% FLOPs, 256, eps=1e-05, momentum=0.1, affine=True, track_running_stats=True)\n",
      "      (downsample): Sequential(\n",
      "        33.28 K = 0.297% Params, 253.76 MMACs = 0.3743% MACs, 511.48 MFLOPS = 0.3764% FLOPs\n",
      "        (0): Conv2d(32.77 K = 0.2925% Params, 253.76 MMACs = 0.3743% MACs, 507.51 MFLOPS = 0.3735% FLOPs, 128, 256, kernel_size=(1, 1), stride=(2, 2), bias=False)\n",
      "        (1): BatchNorm2d(512 = 0.0046% Params, 0 MACs = 0% MACs, 3.96 MFLOPS = 0.0029% FLOPs, 256, eps=1e-05, momentum=0.1, affine=True, track_running_stats=True)\n",
      "      )\n",
      "    )\n",
      "    (1): BasicBlock(\n",
      "      1.18 M = 10.5377% Params, 9.14 GMACs = 13.4748% MACs, 18.28 GFLOPS = 13.4538% FLOPs\n",
      "      (conv1): Conv2d(589.82 K = 5.2643% Params, 4.57 GMACs = 6.7374% MACs, 9.14 GFLOPS = 6.7225% FLOPs, 256, 256, kernel_size=(3, 3), stride=(1, 1), padding=(1, 1), bias=False)\n",
      "      (bn1): BatchNorm2d(512 = 0.0046% Params, 0 MACs = 0% MACs, 3.96 MFLOPS = 0.0029% FLOPs, 256, eps=1e-05, momentum=0.1, affine=True, track_running_stats=True)\n",
      "      (relu): ReLU(0 = 0% Params, 0 MACs = 0% MACs, 3.96 MFLOPS = 0.0029% FLOPs, inplace=True)\n",
      "      (conv2): Conv2d(589.82 K = 5.2643% Params, 4.57 GMACs = 6.7374% MACs, 9.14 GFLOPS = 6.7225% FLOPs, 256, 256, kernel_size=(3, 3), stride=(1, 1), padding=(1, 1), bias=False)\n",
      "      (bn2): BatchNorm2d(512 = 0.0046% Params, 0 MACs = 0% MACs, 3.96 MFLOPS = 0.0029% FLOPs, 256, eps=1e-05, momentum=0.1, affine=True, track_running_stats=True)\n",
      "    )\n",
      "  )\n",
      "  (layer4): Sequential(\n",
      "    8.39 M = 74.9154% Params, 19.33 GMACs = 28.5086% MACs, 38.67 GFLOPS = 28.4579% FLOPs\n",
      "    (0): BasicBlock(\n",
      "      3.67 M = 32.7829% Params, 8.46 GMACs = 12.4725% MACs, 16.92 GFLOPS = 12.452% FLOPs\n",
      "      (conv1): Conv2d(1.18 M = 10.5286% Params, 2.72 GMACs = 4.009% MACs, 5.44 GFLOPS = 4.0002% FLOPs, 256, 512, kernel_size=(3, 3), stride=(2, 2), padding=(1, 1), bias=False)\n",
      "      (bn1): BatchNorm2d(1.02 K = 0.0091% Params, 0 MACs = 0% MACs, 2.36 MFLOPS = 0.0017% FLOPs, 512, eps=1e-05, momentum=0.1, affine=True, track_running_stats=True)\n",
      "      (relu): ReLU(0 = 0% Params, 0 MACs = 0% MACs, 2.36 MFLOPS = 0.0017% FLOPs, inplace=True)\n",
      "      (conv2): Conv2d(2.36 M = 21.0571% Params, 5.44 GMACs = 8.0181% MACs, 10.87 GFLOPS = 8.0004% FLOPs, 512, 512, kernel_size=(3, 3), stride=(1, 1), padding=(1, 1), bias=False)\n",
      "      (bn2): BatchNorm2d(1.02 K = 0.0091% Params, 0 MACs = 0% MACs, 2.36 MFLOPS = 0.0017% FLOPs, 512, eps=1e-05, momentum=0.1, affine=True, track_running_stats=True)\n",
      "      (downsample): Sequential(\n",
      "        132.1 K = 1.179% Params, 301.99 MMACs = 0.4454% MACs, 606.34 MFLOPS = 0.4462% FLOPs\n",
      "        (0): Conv2d(131.07 K = 1.1698% Params, 301.99 MMACs = 0.4454% MACs, 603.98 MFLOPS = 0.4445% FLOPs, 256, 512, kernel_size=(1, 1), stride=(2, 2), bias=False)\n",
      "        (1): BatchNorm2d(1.02 K = 0.0091% Params, 0 MACs = 0% MACs, 2.36 MFLOPS = 0.0017% FLOPs, 512, eps=1e-05, momentum=0.1, affine=True, track_running_stats=True)\n",
      "      )\n",
      "    )\n",
      "    (1): BasicBlock(\n",
      "      4.72 M = 42.1325% Params, 10.87 GMACs = 16.0361% MACs, 21.75 GFLOPS = 16.006% FLOPs\n",
      "      (conv1): Conv2d(2.36 M = 21.0571% Params, 5.44 GMACs = 8.0181% MACs, 10.87 GFLOPS = 8.0004% FLOPs, 512, 512, kernel_size=(3, 3), stride=(1, 1), padding=(1, 1), bias=False)\n",
      "      (bn1): BatchNorm2d(1.02 K = 0.0091% Params, 0 MACs = 0% MACs, 2.36 MFLOPS = 0.0017% FLOPs, 512, eps=1e-05, momentum=0.1, affine=True, track_running_stats=True)\n",
      "      (relu): ReLU(0 = 0% Params, 0 MACs = 0% MACs, 2.36 MFLOPS = 0.0017% FLOPs, inplace=True)\n",
      "      (conv2): Conv2d(2.36 M = 21.0571% Params, 5.44 GMACs = 8.0181% MACs, 10.87 GFLOPS = 8.0004% FLOPs, 512, 512, kernel_size=(3, 3), stride=(1, 1), padding=(1, 1), bias=False)\n",
      "      (bn2): BatchNorm2d(1.02 K = 0.0091% Params, 0 MACs = 0% MACs, 2.36 MFLOPS = 0.0017% FLOPs, 512, eps=1e-05, momentum=0.1, affine=True, track_running_stats=True)\n",
      "    )\n",
      "  )\n",
      "  (avgpool): AdaptiveAvgPool2d(0 = 0% Params, 0 MACs = 0% MACs, 1.18 MFLOPS = 0.0009% FLOPs, output_size=(1, 1))\n",
      "  (fc): Linear(25.65 K = 0.2289% Params, 1.64 MMACs = 0.0024% MACs, 3.28 MFLOPS = 0.0024% FLOPs, in_features=512, out_features=50, bias=True)\n",
      ")\n",
      "---------------------------------------------------------------------------------------------------\n",
      "FLOPs:135.889 GFLOPS   MACs:67.7947 GMACs   Params:11.2043 M \n",
      "\n"
     ]
    }
   ],
   "source": [
    "batch_size = 64\n",
    "input_shape = (batch_size, 3, 84, 84)\n",
    "flops, macs, params = calculate_flops(model=model, \n",
    "                                      input_shape=input_shape,\n",
    "                                      output_as_string=True,\n",
    "                                      output_precision=4)\n",
    "print(\"FLOPs:%s   MACs:%s   Params:%s \\n\" %(flops, macs, params))"
   ]
  },
  {
   "cell_type": "code",
   "execution_count": 10,
   "metadata": {
    "id": "UejkdO5-Fv-S"
   },
   "outputs": [
    {
     "name": "stderr",
     "output_type": "stream",
     "text": [
      "/home/re6125015/.local/lib/python3.11/site-packages/torch/autograd/graph.py:744: UserWarning: Plan failed with a cudnnException: CUDNN_BACKEND_EXECUTION_PLAN_DESCRIPTOR: cudnnFinalize Descriptor Failed cudnn_status: CUDNN_STATUS_NOT_SUPPORTED (Triggered internally at ../aten/src/ATen/native/cudnn/Conv_v8.cpp:919.)\n",
      "  return Variable._execution_engine.run_backward(  # Calls into the C++ engine to run the backward pass\n"
     ]
    },
    {
     "name": "stdout",
     "output_type": "stream",
     "text": [
      "Epoch 1: Train Loss: 3.2972 Train Acc: 13.35% Val Loss: 2.9721 Val Acc: 18.22%\n",
      "Epoch 2: Train Loss: 2.7838 Train Acc: 22.97% Val Loss: 2.6575 Val Acc: 25.78%\n",
      "Epoch 3: Train Loss: 2.4946 Train Acc: 29.63% Val Loss: 2.5702 Val Acc: 28.89%\n",
      "Epoch 4: Train Loss: 2.2370 Train Acc: 35.41% Val Loss: 2.2534 Val Acc: 34.44%\n",
      "Epoch 5: Train Loss: 1.9958 Train Acc: 41.41% Val Loss: 2.0297 Val Acc: 40.22%\n",
      "Epoch 6: Train Loss: 1.7860 Train Acc: 46.78% Val Loss: 1.9792 Val Acc: 41.11%\n",
      "Epoch 7: Train Loss: 1.6018 Train Acc: 51.57% Val Loss: 1.8119 Val Acc: 46.22%\n",
      "Epoch 8: Train Loss: 1.4335 Train Acc: 56.08% Val Loss: 1.8421 Val Acc: 46.89%\n",
      "Epoch 9: Train Loss: 1.2820 Train Acc: 59.91% Val Loss: 1.7130 Val Acc: 48.67%\n",
      "Epoch 10: Train Loss: 1.1247 Train Acc: 64.26% Val Loss: 1.7929 Val Acc: 48.67%\n",
      "Epoch 11: Train Loss: 0.9892 Train Acc: 68.00% Val Loss: 1.7310 Val Acc: 46.67%\n",
      "Epoch 12: Train Loss: 0.8586 Train Acc: 71.76% Val Loss: 1.9566 Val Acc: 50.00%\n",
      "Early stopping triggered.\n"
     ]
    }
   ],
   "source": [
    "num_epochs = 50\n",
    "early_stopping_counter = 0\n",
    "best_val_loss = float('inf')\n",
    "selected_channels = [0, 1, 2]  # RGB for training, can be changed as needed\n",
    "\n",
    "for epoch in range(num_epochs):\n",
    "    model.train()  # Set model to training mode\n",
    "    running_loss = 0.0\n",
    "    correct = 0\n",
    "    total = 0\n",
    "\n",
    "    for inputs, labels in train_loader:\n",
    "        inputs, labels = inputs.to(device), labels.to(device)\n",
    "\n",
    "        optimizer.zero_grad()  # Zero the parameter gradients\n",
    "\n",
    "        # Forward pass with dynamic channel selection\n",
    "        outputs = model(inputs, selected_channels)\n",
    "        loss = criterion(outputs, labels)\n",
    "        loss.backward()  # Backward pass\n",
    "        optimizer.step()  # Optimize the model\n",
    "\n",
    "        # Statistics\n",
    "        running_loss += loss.item() * inputs.size(0)\n",
    "        _, predicted = torch.max(outputs, 1)\n",
    "        total += labels.size(0)\n",
    "        correct += (predicted == labels).sum().item()\n",
    "\n",
    "    epoch_loss = running_loss / total\n",
    "    epoch_acc = correct / total * 100\n",
    "\n",
    "    # Validation\n",
    "    model.eval()  # Set model to evaluation mode\n",
    "    val_loss = 0.0\n",
    "    correct = 0\n",
    "    total = 0\n",
    "\n",
    "    with torch.no_grad():\n",
    "        for inputs, labels in val_loader:\n",
    "            inputs, labels = inputs.to(device), labels.to(device)\n",
    "            outputs = model(inputs, selected_channels)  # Ensure dynamic channel selection is used\n",
    "            loss = criterion(outputs, labels)\n",
    "            val_loss += loss.item() * inputs.size(0)\n",
    "            _, predicted = torch.max(outputs, 1)\n",
    "            total += labels.size(0)\n",
    "            correct += (predicted == labels).sum().item()\n",
    "\n",
    "    val_loss /= total\n",
    "    val_acc = correct / total * 100\n",
    "\n",
    "    print(f'Epoch {epoch + 1}: Train Loss: {epoch_loss:.4f} Train Acc: {epoch_acc:.2f}% Val Loss: {val_loss:.4f} Val Acc: {val_acc:.2f}%')\n",
    "\n",
    "    # Step the scheduler after each epoch (if using scheduler)\n",
    "    # scheduler.step(val_loss)\n",
    "\n",
    "    if val_loss < best_val_loss:\n",
    "        best_val_loss = val_loss\n",
    "        torch.save(model.state_dict(), f'part1/best_model_v2_{res}.pth')  # Save the best model\n",
    "        early_stopping_counter = 0\n",
    "    else:\n",
    "        early_stopping_counter += 1\n",
    "\n",
    "    if early_stopping_counter > 2:  # stops if no improvement after 3 epochs\n",
    "        print(\"Early stopping triggered.\")\n",
    "        break"
   ]
  },
  {
   "cell_type": "code",
   "execution_count": 11,
   "metadata": {},
   "outputs": [
    {
     "name": "stdout",
     "output_type": "stream",
     "text": [
      "1.7130134934849208\n"
     ]
    }
   ],
   "source": [
    "print(best_val_loss)"
   ]
  },
  {
   "cell_type": "code",
   "execution_count": 12,
   "metadata": {},
   "outputs": [
    {
     "data": {
      "text/plain": [
       "ResNet(\n",
       "  (conv1): DynamicSelectiveConvLayer(\n",
       "    (weight_gens): ModuleDict(\n",
       "      (1): Linear(in_features=1, out_features=576, bias=True)\n",
       "      (2): Linear(in_features=2, out_features=1152, bias=True)\n",
       "      (3): Linear(in_features=3, out_features=1728, bias=True)\n",
       "    )\n",
       "  )\n",
       "  (bn1): BatchNorm2d(64, eps=1e-05, momentum=0.1, affine=True, track_running_stats=True)\n",
       "  (relu): ReLU(inplace=True)\n",
       "  (maxpool): MaxPool2d(kernel_size=3, stride=2, padding=1, dilation=1, ceil_mode=False)\n",
       "  (layer1): Sequential(\n",
       "    (0): BasicBlock(\n",
       "      (conv1): Conv2d(64, 64, kernel_size=(3, 3), stride=(1, 1), padding=(1, 1), bias=False)\n",
       "      (bn1): BatchNorm2d(64, eps=1e-05, momentum=0.1, affine=True, track_running_stats=True)\n",
       "      (relu): ReLU(inplace=True)\n",
       "      (conv2): Conv2d(64, 64, kernel_size=(3, 3), stride=(1, 1), padding=(1, 1), bias=False)\n",
       "      (bn2): BatchNorm2d(64, eps=1e-05, momentum=0.1, affine=True, track_running_stats=True)\n",
       "    )\n",
       "    (1): BasicBlock(\n",
       "      (conv1): Conv2d(64, 64, kernel_size=(3, 3), stride=(1, 1), padding=(1, 1), bias=False)\n",
       "      (bn1): BatchNorm2d(64, eps=1e-05, momentum=0.1, affine=True, track_running_stats=True)\n",
       "      (relu): ReLU(inplace=True)\n",
       "      (conv2): Conv2d(64, 64, kernel_size=(3, 3), stride=(1, 1), padding=(1, 1), bias=False)\n",
       "      (bn2): BatchNorm2d(64, eps=1e-05, momentum=0.1, affine=True, track_running_stats=True)\n",
       "    )\n",
       "  )\n",
       "  (layer2): Sequential(\n",
       "    (0): BasicBlock(\n",
       "      (conv1): Conv2d(64, 128, kernel_size=(3, 3), stride=(2, 2), padding=(1, 1), bias=False)\n",
       "      (bn1): BatchNorm2d(128, eps=1e-05, momentum=0.1, affine=True, track_running_stats=True)\n",
       "      (relu): ReLU(inplace=True)\n",
       "      (conv2): Conv2d(128, 128, kernel_size=(3, 3), stride=(1, 1), padding=(1, 1), bias=False)\n",
       "      (bn2): BatchNorm2d(128, eps=1e-05, momentum=0.1, affine=True, track_running_stats=True)\n",
       "      (downsample): Sequential(\n",
       "        (0): Conv2d(64, 128, kernel_size=(1, 1), stride=(2, 2), bias=False)\n",
       "        (1): BatchNorm2d(128, eps=1e-05, momentum=0.1, affine=True, track_running_stats=True)\n",
       "      )\n",
       "    )\n",
       "    (1): BasicBlock(\n",
       "      (conv1): Conv2d(128, 128, kernel_size=(3, 3), stride=(1, 1), padding=(1, 1), bias=False)\n",
       "      (bn1): BatchNorm2d(128, eps=1e-05, momentum=0.1, affine=True, track_running_stats=True)\n",
       "      (relu): ReLU(inplace=True)\n",
       "      (conv2): Conv2d(128, 128, kernel_size=(3, 3), stride=(1, 1), padding=(1, 1), bias=False)\n",
       "      (bn2): BatchNorm2d(128, eps=1e-05, momentum=0.1, affine=True, track_running_stats=True)\n",
       "    )\n",
       "  )\n",
       "  (layer3): Sequential(\n",
       "    (0): BasicBlock(\n",
       "      (conv1): Conv2d(128, 256, kernel_size=(3, 3), stride=(2, 2), padding=(1, 1), bias=False)\n",
       "      (bn1): BatchNorm2d(256, eps=1e-05, momentum=0.1, affine=True, track_running_stats=True)\n",
       "      (relu): ReLU(inplace=True)\n",
       "      (conv2): Conv2d(256, 256, kernel_size=(3, 3), stride=(1, 1), padding=(1, 1), bias=False)\n",
       "      (bn2): BatchNorm2d(256, eps=1e-05, momentum=0.1, affine=True, track_running_stats=True)\n",
       "      (downsample): Sequential(\n",
       "        (0): Conv2d(128, 256, kernel_size=(1, 1), stride=(2, 2), bias=False)\n",
       "        (1): BatchNorm2d(256, eps=1e-05, momentum=0.1, affine=True, track_running_stats=True)\n",
       "      )\n",
       "    )\n",
       "    (1): BasicBlock(\n",
       "      (conv1): Conv2d(256, 256, kernel_size=(3, 3), stride=(1, 1), padding=(1, 1), bias=False)\n",
       "      (bn1): BatchNorm2d(256, eps=1e-05, momentum=0.1, affine=True, track_running_stats=True)\n",
       "      (relu): ReLU(inplace=True)\n",
       "      (conv2): Conv2d(256, 256, kernel_size=(3, 3), stride=(1, 1), padding=(1, 1), bias=False)\n",
       "      (bn2): BatchNorm2d(256, eps=1e-05, momentum=0.1, affine=True, track_running_stats=True)\n",
       "    )\n",
       "  )\n",
       "  (layer4): Sequential(\n",
       "    (0): BasicBlock(\n",
       "      (conv1): Conv2d(256, 512, kernel_size=(3, 3), stride=(2, 2), padding=(1, 1), bias=False)\n",
       "      (bn1): BatchNorm2d(512, eps=1e-05, momentum=0.1, affine=True, track_running_stats=True)\n",
       "      (relu): ReLU(inplace=True)\n",
       "      (conv2): Conv2d(512, 512, kernel_size=(3, 3), stride=(1, 1), padding=(1, 1), bias=False)\n",
       "      (bn2): BatchNorm2d(512, eps=1e-05, momentum=0.1, affine=True, track_running_stats=True)\n",
       "      (downsample): Sequential(\n",
       "        (0): Conv2d(256, 512, kernel_size=(1, 1), stride=(2, 2), bias=False)\n",
       "        (1): BatchNorm2d(512, eps=1e-05, momentum=0.1, affine=True, track_running_stats=True)\n",
       "      )\n",
       "    )\n",
       "    (1): BasicBlock(\n",
       "      (conv1): Conv2d(512, 512, kernel_size=(3, 3), stride=(1, 1), padding=(1, 1), bias=False)\n",
       "      (bn1): BatchNorm2d(512, eps=1e-05, momentum=0.1, affine=True, track_running_stats=True)\n",
       "      (relu): ReLU(inplace=True)\n",
       "      (conv2): Conv2d(512, 512, kernel_size=(3, 3), stride=(1, 1), padding=(1, 1), bias=False)\n",
       "      (bn2): BatchNorm2d(512, eps=1e-05, momentum=0.1, affine=True, track_running_stats=True)\n",
       "    )\n",
       "  )\n",
       "  (avgpool): AdaptiveAvgPool2d(output_size=(1, 1))\n",
       "  (fc): Linear(in_features=512, out_features=50, bias=True)\n",
       ")"
      ]
     },
     "execution_count": 12,
     "metadata": {},
     "output_type": "execute_result"
    }
   ],
   "source": [
    "model = ResNet(BasicBlock, [2, 2, 2, 2], num_classes=50)\n",
    "model.load_state_dict(torch.load(f'part1/best_model_v2_{res}.pth'))\n",
    "model.eval()  # Set the model to evaluation mode\n",
    "model.to(device)  # Move model to the appropriate device (CPU or GPU)"
   ]
  },
  {
   "cell_type": "code",
   "execution_count": 13,
   "metadata": {},
   "outputs": [],
   "source": [
    "# Function to make predictions and optionally evaluate the model with selected channels\n",
    "def predict(model, data_loader, selected_channels):\n",
    "    device = torch.device(\"cuda\" if torch.cuda.is_available() else \"cpu\")\n",
    "    model.to(device)\n",
    "    \n",
    "    all_predictions = []\n",
    "    all_labels = []  # Optional, only if labels are available in the test set\n",
    "\n",
    "    with torch.no_grad():  # No need to track gradients for predictions\n",
    "        for inputs, labels in data_loader:\n",
    "            inputs = inputs.to(device)\n",
    "            # Update the model call to include selected_channels\n",
    "            outputs = model(inputs, selected_channels)\n",
    "            _, predicted = torch.max(outputs, 1)\n",
    "            all_predictions.extend(predicted.cpu().numpy())\n",
    "            all_labels.extend(labels.cpu().numpy())  # Optional\n",
    "\n",
    "    return all_predictions, all_labels\n",
    "\n",
    "# Example of using the updated predict function\n",
    "selected_channels = [0, 1, 2]  # For example, use only Red and Green channels\n",
    "predictions, labels = predict(model, test_loader, selected_channels)"
   ]
  },
  {
   "cell_type": "code",
   "execution_count": 14,
   "metadata": {},
   "outputs": [
    {
     "name": "stdout",
     "output_type": "stream",
     "text": [
      "Accuracy on test data: 54.00%\n"
     ]
    }
   ],
   "source": [
    "if labels:\n",
    "    accuracy = accuracy_score(labels, predictions) * 100\n",
    "    print(f\"Accuracy on test data: {accuracy:.2f}%\")"
   ]
  },
  {
   "cell_type": "code",
   "execution_count": 15,
   "metadata": {},
   "outputs": [],
   "source": [
    "# Example of saving predictions to a CSV file\n",
    "result_df = pd.DataFrame({'PredictedLabel': predictions})\n",
    "result_df.to_csv(f'part1/predict_rgb_v2_{res}.csv', index=False)"
   ]
  },
  {
   "cell_type": "code",
   "execution_count": 18,
   "metadata": {},
   "outputs": [
    {
     "name": "stdout",
     "output_type": "stream",
     "text": [
      "Accuracy on test data: 1.78%\n"
     ]
    }
   ],
   "source": [
    "selected_channels = [0, 1]  # For example, use only Red and Green channels\n",
    "predictions, labels = predict(model, test_loader, selected_channels)\n",
    "if labels:\n",
    "    accuracy = accuracy_score(labels, predictions) * 100\n",
    "    print(f\"Accuracy on test data (RG): {accuracy:.2f}%\")"
   ]
  },
  {
   "cell_type": "code",
   "execution_count": 19,
   "metadata": {},
   "outputs": [
    {
     "name": "stdout",
     "output_type": "stream",
     "text": [
      "Accuracy on test data (RB): 2.00%\n"
     ]
    }
   ],
   "source": [
    "selected_channels = [0, 2]  # For example, use only Red and Green channels\n",
    "predictions, labels = predict(model, test_loader, selected_channels)\n",
    "if labels:\n",
    "    accuracy = accuracy_score(labels, predictions) * 100\n",
    "    print(f\"Accuracy on test data (RB): {accuracy:.2f}%\")"
   ]
  },
  {
   "cell_type": "code",
   "execution_count": 20,
   "metadata": {},
   "outputs": [
    {
     "name": "stdout",
     "output_type": "stream",
     "text": [
      "Accuracy on test data (GB): 2.67%\n"
     ]
    }
   ],
   "source": [
    "selected_channels = [1, 2]  # For example, use only Red and Green channels\n",
    "predictions, labels = predict(model, test_loader, selected_channels)\n",
    "if labels:\n",
    "    accuracy = accuracy_score(labels, predictions) * 100\n",
    "    print(f\"Accuracy on test data (GB): {accuracy:.2f}%\")"
   ]
  },
  {
   "cell_type": "code",
   "execution_count": 21,
   "metadata": {},
   "outputs": [
    {
     "name": "stdout",
     "output_type": "stream",
     "text": [
      "Accuracy on test data (R): 2.00%\n"
     ]
    }
   ],
   "source": [
    "selected_channels = [0]  # For example, use only Red and Green channels\n",
    "predictions, labels = predict(model, test_loader, selected_channels)\n",
    "if labels:\n",
    "    accuracy = accuracy_score(labels, predictions) * 100\n",
    "    print(f\"Accuracy on test data (R): {accuracy:.2f}%\")"
   ]
  },
  {
   "cell_type": "code",
   "execution_count": 22,
   "metadata": {},
   "outputs": [
    {
     "name": "stdout",
     "output_type": "stream",
     "text": [
      "Accuracy on test data (G): 3.11%\n"
     ]
    }
   ],
   "source": [
    "selected_channels = [1]  # For example, use only Red and Green channels\n",
    "predictions, labels = predict(model, test_loader, selected_channels)\n",
    "if labels:\n",
    "    accuracy = accuracy_score(labels, predictions) * 100\n",
    "    print(f\"Accuracy on test data (G): {accuracy:.2f}%\")"
   ]
  },
  {
   "cell_type": "code",
   "execution_count": 23,
   "metadata": {},
   "outputs": [
    {
     "name": "stdout",
     "output_type": "stream",
     "text": [
      "Accuracy on test data (B): 2.89%\n"
     ]
    }
   ],
   "source": [
    "selected_channels = [2]  # For example, use only Red and Green channels\n",
    "predictions, labels = predict(model, test_loader, selected_channels)\n",
    "if labels:\n",
    "    accuracy = accuracy_score(labels, predictions) * 100\n",
    "    print(f\"Accuracy on test data (B): {accuracy:.2f}%\")"
   ]
  },
  {
   "cell_type": "code",
   "execution_count": 16,
   "metadata": {},
   "outputs": [
    {
     "name": "stdout",
     "output_type": "stream",
     "text": [
      "Classification Report:\n",
      "              precision    recall  f1-score   support\n",
      "\n",
      "           0       0.40      0.44      0.42         9\n",
      "           1       0.30      0.33      0.32         9\n",
      "           2       0.56      0.56      0.56         9\n",
      "           3       0.78      0.78      0.78         9\n",
      "           4       0.75      0.67      0.71         9\n",
      "           5       0.67      0.89      0.76         9\n",
      "           6       0.50      0.67      0.57         9\n",
      "           7       0.75      0.33      0.46         9\n",
      "           8       1.00      0.33      0.50         9\n",
      "           9       0.40      0.22      0.29         9\n",
      "          10       0.60      0.67      0.63         9\n",
      "          11       0.00      0.00      0.00         9\n",
      "          12       1.00      0.44      0.62         9\n",
      "          13       0.27      0.44      0.33         9\n",
      "          14       0.29      0.22      0.25         9\n",
      "          15       0.38      0.67      0.48         9\n",
      "          16       0.11      0.11      0.11         9\n",
      "          17       0.50      0.33      0.40         9\n",
      "          18       0.86      0.67      0.75         9\n",
      "          19       0.50      1.00      0.67         9\n",
      "          20       0.67      0.67      0.67         9\n",
      "          21       0.17      0.11      0.13         9\n",
      "          22       0.50      0.67      0.57         9\n",
      "          23       0.47      0.78      0.58         9\n",
      "          24       0.45      0.56      0.50         9\n",
      "          25       0.50      0.67      0.57         9\n",
      "          26       1.00      0.11      0.20         9\n",
      "          27       0.42      0.56      0.48         9\n",
      "          28       0.62      0.56      0.59         9\n",
      "          29       0.50      0.22      0.31         9\n",
      "          30       0.75      0.33      0.46         9\n",
      "          31       0.44      0.44      0.44         9\n",
      "          32       0.57      0.44      0.50         9\n",
      "          33       0.70      0.78      0.74         9\n",
      "          34       0.70      0.78      0.74         9\n",
      "          35       0.55      0.67      0.60         9\n",
      "          36       0.67      0.67      0.67         9\n",
      "          37       0.88      0.78      0.82         9\n",
      "          38       0.50      0.44      0.47         9\n",
      "          39       0.43      0.33      0.38         9\n",
      "          40       0.89      0.89      0.89         9\n",
      "          41       0.40      0.67      0.50         9\n",
      "          42       0.67      0.44      0.53         9\n",
      "          43       0.55      0.67      0.60         9\n",
      "          44       1.00      0.56      0.71         9\n",
      "          45       0.69      1.00      0.82         9\n",
      "          46       0.58      0.78      0.67         9\n",
      "          47       0.30      0.67      0.41         9\n",
      "          48       1.00      0.33      0.50         9\n",
      "          49       0.67      0.67      0.67         9\n",
      "\n",
      "    accuracy                           0.54       450\n",
      "   macro avg       0.58      0.54      0.53       450\n",
      "weighted avg       0.58      0.54      0.53       450\n",
      "\n",
      "Confusion Matrix:\n",
      "[[4 0 0 ... 0 0 0]\n",
      " [0 3 3 ... 0 0 0]\n",
      " [0 1 5 ... 0 0 0]\n",
      " ...\n",
      " [0 0 0 ... 6 0 1]\n",
      " [0 0 0 ... 2 3 1]\n",
      " [0 0 0 ... 1 0 6]]\n"
     ]
    },
    {
     "name": "stderr",
     "output_type": "stream",
     "text": [
      "/home/re6125015/.local/lib/python3.11/site-packages/sklearn/metrics/_classification.py:1517: UndefinedMetricWarning: Precision is ill-defined and being set to 0.0 in labels with no predicted samples. Use `zero_division` parameter to control this behavior.\n",
      "  _warn_prf(average, modifier, f\"{metric.capitalize()} is\", len(result))\n",
      "/home/re6125015/.local/lib/python3.11/site-packages/sklearn/metrics/_classification.py:1517: UndefinedMetricWarning: Precision is ill-defined and being set to 0.0 in labels with no predicted samples. Use `zero_division` parameter to control this behavior.\n",
      "  _warn_prf(average, modifier, f\"{metric.capitalize()} is\", len(result))\n",
      "/home/re6125015/.local/lib/python3.11/site-packages/sklearn/metrics/_classification.py:1517: UndefinedMetricWarning: Precision is ill-defined and being set to 0.0 in labels with no predicted samples. Use `zero_division` parameter to control this behavior.\n",
      "  _warn_prf(average, modifier, f\"{metric.capitalize()} is\", len(result))\n"
     ]
    }
   ],
   "source": [
    "# Print classification report\n",
    "print(\"Classification Report:\")\n",
    "print(classification_report(labels, predictions))\n",
    "\n",
    "# Print confusion matrix\n",
    "print(\"Confusion Matrix:\")\n",
    "cm = confusion_matrix(labels, predictions)\n",
    "print(cm)"
   ]
  },
  {
   "cell_type": "code",
   "execution_count": 17,
   "metadata": {},
   "outputs": [
    {
     "data": {
      "image/png": "[encoded data removed]",
      "text/plain": [
       "<Figure size 1200x1000 with 2 Axes>"
      ]
     },
     "metadata": {},
     "output_type": "display_data"
    }
   ],
   "source": [
    "plt.figure(figsize=(12,10))\n",
    "sns.heatmap(cm, annot=True, fmt=\"d\", cmap=\"Blues\")\n",
    "plt.title('Confusion Matrix')\n",
    "plt.xlabel('Predicted Labels')\n",
    "plt.ylabel('True Labels')\n",
    "plt.show()"
   ]
  },
  {
   "cell_type": "code",
   "execution_count": null,
   "metadata": {},
   "outputs": [],
   "source": []
  }
 ],
 "metadata": {
  "accelerator": "GPU",
  "colab": {
   "gpuType": "T4",
   "provenance": []
  },
  "kernelspec": {
   "display_name": "Python 3 (ipykernel)",
   "language": "python",
   "name": "python3"
  },
  "language_info": {
   "codemirror_mode": {
    "name": "ipython",
    "version": 3
   },
   "file_extension": ".py",
   "mimetype": "text/x-python",
   "name": "python",
   "nbconvert_exporter": "python",
   "pygments_lexer": "ipython3",
   "version": "3.11.5"
  }
 },
 "nbformat": 4,
 "nbformat_minor": 4
}
